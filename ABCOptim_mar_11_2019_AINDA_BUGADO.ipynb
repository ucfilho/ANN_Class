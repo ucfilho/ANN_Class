{
  "nbformat": 4,
  "nbformat_minor": 0,
  "metadata": {
    "colab": {
      "name": "ABCOptim_mar_11_2019.ipynb",
      "version": "0.3.2",
      "provenance": [],
      "collapsed_sections": [],
      "include_colab_link": true
    },
    "kernelspec": {
      "display_name": "Python 3",
      "language": "python",
      "name": "python3"
    }
  },
  "cells": [
    {
      "cell_type": "markdown",
      "metadata": {
        "id": "view-in-github",
        "colab_type": "text"
      },
      "source": [
        "<a href=\"https://colab.research.google.com/github/ucfilho/Codigos_Teste/blob/master/ABCOptim_mar_11_2019_AINDA_BUGADO.ipynb\" target=\"_parent\"><img src=\"https://colab.research.google.com/assets/colab-badge.svg\" alt=\"Open In Colab\"/></a>"
      ]
    },
    {
      "metadata": {
        "id": "lMSxkzonHX2t",
        "colab_type": "code",
        "colab": {
          "base_uri": "https://localhost:8080/",
          "height": 35
        },
        "outputId": "656b2c55-b820-4149-fca1-ae3e298d57af"
      },
      "cell_type": "code",
      "source": [
        "'''\n",
        "Artificial bee colony optimization \n",
        "https://abc.erciyes.edu.tr/pub/Step%20by%20Step%20Procedure%20of%20ABC.pdf\n",
        "'''"
      ],
      "execution_count": 1,
      "outputs": [
        {
          "output_type": "execute_result",
          "data": {
            "text/plain": [
              "'\\nArtificial bee colony optimization \\nhttps://abc.erciyes.edu.tr/pub/Step%20by%20Step%20Procedure%20of%20ABC.pdf\\n'"
            ]
          },
          "metadata": {
            "tags": []
          },
          "execution_count": 1
        }
      ]
    },
    {
      "metadata": {
        "id": "vfr-WJeoITG0",
        "colab_type": "code",
        "colab": {}
      },
      "cell_type": "code",
      "source": [
        "import numpy as np\n",
        "from random import randint"
      ],
      "execution_count": 0,
      "outputs": []
    },
    {
      "metadata": {
        "id": "XnZITlaYITG_",
        "colab_type": "code",
        "colab": {}
      },
      "cell_type": "code",
      "source": [
        "'''Rosembrock Function'''\n",
        "def Fun(x):\n",
        "    fun=0\n",
        "    a=1.0\n",
        "    b=100.0\n",
        "    fun = (a-x[0])**2 + b*(x[1]-x[0]**2)**2\n",
        "    return fun"
      ],
      "execution_count": 0,
      "outputs": []
    },
    {
      "metadata": {
        "id": "NGpJGJlFITHE",
        "colab_type": "code",
        "colab": {}
      },
      "cell_type": "code",
      "source": [
        "''' \n",
        "FOBJ gera vetorialmente os valores com a funcao objetivo escalar\n",
        "em outras palavras gera para populacao o valor da funcao \n",
        "a ser otimizada\n",
        "'''\n",
        "def FOBJ(X):\n",
        "  X=np.matrix(X)\n",
        "  rows = X.shape[0]\n",
        "  fobj=np.zeros(rows)\n",
        "  for i in range(rows):\n",
        "    fobj[i]=Fun(X[i,])\n",
        "  return fobj"
      ],
      "execution_count": 0,
      "outputs": []
    },
    {
      "metadata": {
        "id": "-OAcXKTm0Nhb",
        "colab_type": "code",
        "colab": {}
      },
      "cell_type": "code",
      "source": [
        "'''roulette wheel selection python'''\n",
        "'''function i=RouletteWheelSelection(P)\n",
        "    r=rand;\n",
        "    \n",
        "    C=cumsum(P);\n",
        "    \n",
        "    i=find(r<=C,1,'first');\n",
        "end'''\n",
        "def RouletteWheelSelection(P):\n",
        "  index=-1\n",
        "  r=np.random.random()\n",
        "  C=np.cumsum(P)\n",
        "  for  item in C:\n",
        "    index=index+1\n",
        "    if (item >= r):\n",
        "      break\n",
        "  return index"
      ],
      "execution_count": 0,
      "outputs": []
    },
    {
      "metadata": {
        "id": "ASnJC2jQITHJ",
        "colab_type": "code",
        "colab": {}
      },
      "cell_type": "code",
      "source": [
        "'''Enxame retorna a populacao aleatoria com todos valores entre MIN e MAX'''\n",
        "def Enxame(PAR,NPAR,MAX,MIN):\n",
        "    x=np.zeros((NPAR, len(MAX)))\n",
        "    for j in range(len(MAX)):\n",
        "        for i in range(NPAR):\n",
        "            x[i,j]=MIN[j]+(MAX[j]-MIN[j])*np.random.random()\n",
        "    return x"
      ],
      "execution_count": 0,
      "outputs": []
    },
    {
      "metadata": {
        "id": "De1_VBasITHP",
        "colab_type": "code",
        "colab": {}
      },
      "cell_type": "code",
      "source": [
        "''' \n",
        "Fitness gera vetorialmente os valores com a funcao fitness\n",
        "equivale a quantidade de nectar da fonte\n",
        "'''\n",
        "def FIT(X):\n",
        "    rows = X.shape[0]\n",
        "    fit=np.zeros(rows)\n",
        "    fit=np.copy(FOBJ(X))\n",
        "    for i in range(rows):\n",
        "        if(fit[i]>=0):\n",
        "            fit[i]=1/(fit[i]+1)\n",
        "        else:\n",
        "            fit[i]=1+abs(fit[i])\n",
        "    return fit"
      ],
      "execution_count": 0,
      "outputs": []
    },
    {
      "metadata": {
        "id": "__wpzpgoITHW",
        "colab_type": "code",
        "colab": {}
      },
      "cell_type": "code",
      "source": [
        "'''\n",
        "probablilidade usada para roleta q atualizacao das onlookers \n",
        "semelhante ao genetico\n",
        "'''\n",
        "\n",
        "def PROB(x):\n",
        "    rows=x.shape[0]\n",
        "    fit=np.zeros(rows)\n",
        "    prob=np.zeros(rows)\n",
        "    fit=FIT(x)\n",
        "    soma=np.sum(fit)\n",
        "    \n",
        "    for i in range(rows):\n",
        "        prob[i] = fit[i]/soma\n",
        "\n",
        "    return prob"
      ],
      "execution_count": 0,
      "outputs": []
    },
    {
      "metadata": {
        "id": "LilZnbFDITHb",
        "colab_type": "code",
        "colab": {}
      },
      "cell_type": "code",
      "source": [
        "'''\n",
        "Obtem a melhor escolha greedy search\n",
        "'''\n",
        "def GetBest(x,xbest):\n",
        "    ycal=FOBJ(x)\n",
        "    best=np.argmin(ycal)\n",
        "    yref=Fun(xbest)\n",
        "    if(yref<ycal[best]):\n",
        "        GBEST=xbest\n",
        "    else:\n",
        "        GBEST=x[best,]\n",
        "    return GBEST\n",
        "    "
      ],
      "execution_count": 0,
      "outputs": []
    },
    {
      "metadata": {
        "id": "LfCjSy3qITHg",
        "colab_type": "code",
        "colab": {}
      },
      "cell_type": "code",
      "source": [
        "'''\n",
        "employed bee phase\n",
        "'''\n",
        "def EmployedBee(xo,x,MAX,MIN) :\n",
        "    NPAR = xo.shape[0]\n",
        "    PAR= xo.shape[1]\n",
        "    V=np.zeros((NPAR, len(MAX)))\n",
        "\n",
        "    for j in range(PAR):\n",
        "        for i in range(NPAR):           \n",
        "            fi=np.random.uniform(low=-2.0, high=2.0, size=None)\n",
        "            rd=randint(0, (NPAR-1))\n",
        "            V[i,j]=xo[i,j]+(xo[i,j] -x[rd,j])*fi # candidata a solucao\n",
        "            if (V[i,j]>MAX[j]):\n",
        "              V[i,j]=np.copy(MAX[j]) # restringe a busca para o intervalo\n",
        "            if (V[i,j]<MIN[j]):\n",
        "              V[i,j]=np.copy(MIN[j]) # restringe a busca para o intervalo\n",
        "              \n",
        "    YCAL=FOBJ(xo)\n",
        "    YV=FOBJ(V)\n",
        "    for i in range(NPAR):\n",
        "        if(YV[i]<YCAL[i]):\n",
        "            x[i,]=np.copy(V[i,])\n",
        "\n",
        "    return x"
      ],
      "execution_count": 0,
      "outputs": []
    },
    {
      "metadata": {
        "id": "1_KrhPKiITHl",
        "colab_type": "code",
        "colab": {}
      },
      "cell_type": "code",
      "source": [
        "'''\n",
        "onlooker bee phase\n",
        "'''\n",
        "def OnlookerBee(xo,x,trial,ntrial,MAX,MIN) : #OnlookerBee(xo,x_Employed,...)\n",
        "    rows = xo.shape[0]\n",
        "    cols = xo.shape[1]\n",
        "    NPAR = xo.shape[0]\n",
        "    PAR= xo.shape[1]\n",
        "    prob=PROB(x)\n",
        "    prob_0=PROB(xo)    \n",
        "    for i in range(rows):\n",
        "      rd=RouletteWheelSelection(prob_0)\n",
        "      fi=np.random.uniform(low=-1.0, high=1.0, size=None)\n",
        "      Xmi=xo[i,]+fi*(xo[i,]-x[rd,])\n",
        "      if(Fun(xo[i,])>Fun(Xmi)):\n",
        "        xo[i,]=np.copy(Xmi)\n",
        "        trial[i]=0\n",
        "      else:\n",
        "        trial[i]=trial[i]+1\n",
        "\n",
        "    return xo,trial"
      ],
      "execution_count": 0,
      "outputs": []
    },
    {
      "metadata": {
        "id": "LmniEp0fITHs",
        "colab_type": "code",
        "colab": {}
      },
      "cell_type": "code",
      "source": [
        "'''\n",
        "scout bee phase\n",
        "'''\n",
        "#def ScoutBee(trial,x,ntrail,MAX,MIN):\n",
        "def ScoutBee(x,MAX,MIN,trail,ntrail):\n",
        "    PAR = x.shape[0]\n",
        "    NPAR = x.shape[1]\n",
        "    x_scout=[]\n",
        "    x_scout=x.copy\n",
        "    \n",
        "    for i in range(PAR):\n",
        "      if(trail[i]>=ntrail): #scout abandona a fonte\n",
        "        trail[i]=0\n",
        "        for j in range(NPAR):\n",
        "          x[i,j]=MIN[j]+(MAX[j]-MIN[j])*np.random.random()\n",
        "\n",
        "    return x,trial"
      ],
      "execution_count": 0,
      "outputs": []
    },
    {
      "metadata": {
        "id": "vJcEYWtRITHy",
        "colab_type": "code",
        "colab": {}
      },
      "cell_type": "code",
      "source": [
        "\n",
        "'''\n",
        "Metodo que alterna e coordena o uso employers,onlooker, scout bees\n",
        "e greedy search\n",
        "\n",
        "'''\n",
        "def ABCOPtim(ITE,PAR,ntrial,NPAR,MAX,MIN):\n",
        "\n",
        "    trial=np.ones(NPAR) # inicializa contador p abandonar fonte de alimento\n",
        "    xbest=Enxame(PAR,1,MAX,MIN)[0,] #inicializa xbest\n",
        " \n",
        "    vbest_old=Fun(xbest)\n",
        "    vbest_new=Fun(xbest)\n",
        "    x=Enxame(PAR,NPAR,MAX,MIN) # inicializa employed bee-parte 1\n",
        "    xo=Enxame(PAR,NPAR,MAX,MIN) # inicializa employed bee-parte 1\n",
        "    Fo=FOBJ(xo) # vai variar Employed bee por ntrial aqui p iniciar\n",
        "    Fnew=FOBJ(x) # vai variar Employed bee por ntrial aqui p iniciar\n",
        "    \n",
        "    for i in range(ITE):\n",
        "      \n",
        "      for k in range(NPAR):\n",
        "        if(Fo[k] <= Fnew[k]):\n",
        "          trial[k]=trial[k]+1\n",
        "        else:\n",
        "          trial[k]=0\n",
        "          xo[k,]=np.copy(x[k,])\n",
        "      \n",
        "      x_Employed =EmployedBee(xo,x,MAX,MIN)\n",
        "          \n",
        "      x=[]\n",
        "      x=x_Employed.copy()\n",
        "      xbest=GetBest(x_Employed,xbest)\n",
        "      vbest_new=Fun(xbest)\n",
        "      xo=Enxame(PAR,NPAR,MAX,MIN) # inicializa OnlookerBee\n",
        "      x_Onlooker=OnlookerBee(xo,x_Employed,trial,ntrial,MAX,MIN)\n",
        "      xbest=GetBest(x_Onlooker,xbest)\n",
        "      x_Scout,trail=ScoutBee(x,MAX,MIN,trail,ntrail) # inicializa ScoutBee ( a rigor so esta linha basta)\n",
        "      xbest=GetBest(x_Scout,xbest)\n",
        "      \n",
        "      return xbest, x_Onlooker,x_Employed          \n",
        "      \n",
        "  \n",
        "\n",
        "     "
      ],
      "execution_count": 0,
      "outputs": []
    },
    {
      "metadata": {
        "id": "P34n3mljITH2",
        "colab_type": "code",
        "outputId": "9fdff3b6-b3ba-4695-d4a6-d1dbd16759a5",
        "colab": {
          "base_uri": "https://localhost:8080/",
          "height": 880
        }
      },
      "cell_type": "code",
      "source": [
        "NPAR=500 #PARTICULAS\n",
        "ITE=3000 #ITERACOES\n",
        "PAR=2 #NUM DE PARAMETROS A SER OTIMIZADOS\n",
        "MAX=[2,2] # MAXIMO DE CADA PARAMETRO\n",
        "MIN=[-2,-2] # MINIMO DE CADA PARAMETRO\n",
        "ntrail=10 #numero de buscas ate abandonar uma fonte de alimento\n",
        "\n",
        "print(ntrail)\n",
        "\n",
        "for i in range(6):\n",
        "    print(\"resolucao\",i+1,\" \")\n",
        "    xbest, x_Onlooker,x_Employed =ABCOPtim(ITE,PAR,ntrail,NPAR,MAX,MIN)\n",
        "    print(\"vetor\",xbest,\"funcao\", Fun(xbest),\"\\n\")\n",
        "\n",
        "'''print(xbest)\n",
        "print(x_Onlooker)\n",
        "print(x_Employed)'''\n",
        "    "
      ],
      "execution_count": 14,
      "outputs": [
        {
          "output_type": "stream",
          "text": [
            "10\n",
            "resolucao 1  \n"
          ],
          "name": "stdout"
        },
        {
          "output_type": "error",
          "ename": "ValueError",
          "evalue": "ignored",
          "traceback": [
            "\u001b[0;31m---------------------------------------------------------------------------\u001b[0m",
            "\u001b[0;31mValueError\u001b[0m                                Traceback (most recent call last)",
            "\u001b[0;32m<ipython-input-14-7e85ec228814>\u001b[0m in \u001b[0;36m<module>\u001b[0;34m()\u001b[0m\n\u001b[1;32m     10\u001b[0m \u001b[0;32mfor\u001b[0m \u001b[0mi\u001b[0m \u001b[0;32min\u001b[0m \u001b[0mrange\u001b[0m\u001b[0;34m(\u001b[0m\u001b[0;36m6\u001b[0m\u001b[0;34m)\u001b[0m\u001b[0;34m:\u001b[0m\u001b[0;34m\u001b[0m\u001b[0;34m\u001b[0m\u001b[0m\n\u001b[1;32m     11\u001b[0m     \u001b[0mprint\u001b[0m\u001b[0;34m(\u001b[0m\u001b[0;34m\"resolucao\"\u001b[0m\u001b[0;34m,\u001b[0m\u001b[0mi\u001b[0m\u001b[0;34m+\u001b[0m\u001b[0;36m1\u001b[0m\u001b[0;34m,\u001b[0m\u001b[0;34m\" \"\u001b[0m\u001b[0;34m)\u001b[0m\u001b[0;34m\u001b[0m\u001b[0;34m\u001b[0m\u001b[0m\n\u001b[0;32m---> 12\u001b[0;31m     \u001b[0mxbest\u001b[0m\u001b[0;34m,\u001b[0m \u001b[0mx_Onlooker\u001b[0m\u001b[0;34m,\u001b[0m\u001b[0mx_Employed\u001b[0m \u001b[0;34m=\u001b[0m\u001b[0mABCOPtim\u001b[0m\u001b[0;34m(\u001b[0m\u001b[0mITE\u001b[0m\u001b[0;34m,\u001b[0m\u001b[0mPAR\u001b[0m\u001b[0;34m,\u001b[0m\u001b[0mntrail\u001b[0m\u001b[0;34m,\u001b[0m\u001b[0mNPAR\u001b[0m\u001b[0;34m,\u001b[0m\u001b[0mMAX\u001b[0m\u001b[0;34m,\u001b[0m\u001b[0mMIN\u001b[0m\u001b[0;34m)\u001b[0m\u001b[0;34m\u001b[0m\u001b[0;34m\u001b[0m\u001b[0m\n\u001b[0m\u001b[1;32m     13\u001b[0m     \u001b[0mprint\u001b[0m\u001b[0;34m(\u001b[0m\u001b[0;34m\"vetor\"\u001b[0m\u001b[0;34m,\u001b[0m\u001b[0mxbest\u001b[0m\u001b[0;34m,\u001b[0m\u001b[0;34m\"funcao\"\u001b[0m\u001b[0;34m,\u001b[0m \u001b[0mFun\u001b[0m\u001b[0;34m(\u001b[0m\u001b[0mxbest\u001b[0m\u001b[0;34m)\u001b[0m\u001b[0;34m,\u001b[0m\u001b[0;34m\"\\n\"\u001b[0m\u001b[0;34m)\u001b[0m\u001b[0;34m\u001b[0m\u001b[0;34m\u001b[0m\u001b[0m\n\u001b[1;32m     14\u001b[0m \u001b[0;34m\u001b[0m\u001b[0m\n",
            "\u001b[0;32m<ipython-input-13-e2ab81c8c2ac>\u001b[0m in \u001b[0;36mABCOPtim\u001b[0;34m(ITE, PAR, ntrial, NPAR, MAX, MIN)\u001b[0m\n\u001b[1;32m     14\u001b[0m     \u001b[0mx\u001b[0m\u001b[0;34m=\u001b[0m\u001b[0mEnxame\u001b[0m\u001b[0;34m(\u001b[0m\u001b[0mPAR\u001b[0m\u001b[0;34m,\u001b[0m\u001b[0mNPAR\u001b[0m\u001b[0;34m,\u001b[0m\u001b[0mMAX\u001b[0m\u001b[0;34m,\u001b[0m\u001b[0mMIN\u001b[0m\u001b[0;34m)\u001b[0m \u001b[0;31m# inicializa employed bee-parte 1\u001b[0m\u001b[0;34m\u001b[0m\u001b[0;34m\u001b[0m\u001b[0m\n\u001b[1;32m     15\u001b[0m     \u001b[0mxo\u001b[0m\u001b[0;34m=\u001b[0m\u001b[0mEnxame\u001b[0m\u001b[0;34m(\u001b[0m\u001b[0mPAR\u001b[0m\u001b[0;34m,\u001b[0m\u001b[0mNPAR\u001b[0m\u001b[0;34m,\u001b[0m\u001b[0mMAX\u001b[0m\u001b[0;34m,\u001b[0m\u001b[0mMIN\u001b[0m\u001b[0;34m)\u001b[0m \u001b[0;31m# inicializa employed bee-parte 1\u001b[0m\u001b[0;34m\u001b[0m\u001b[0;34m\u001b[0m\u001b[0m\n\u001b[0;32m---> 16\u001b[0;31m     \u001b[0mFo\u001b[0m\u001b[0;34m=\u001b[0m\u001b[0mFOBJ\u001b[0m\u001b[0;34m(\u001b[0m\u001b[0mxo\u001b[0m\u001b[0;34m)\u001b[0m \u001b[0;31m# vai variar Employed bee por ntrial aqui p iniciar\u001b[0m\u001b[0;34m\u001b[0m\u001b[0;34m\u001b[0m\u001b[0m\n\u001b[0m\u001b[1;32m     17\u001b[0m     \u001b[0mFnew\u001b[0m\u001b[0;34m=\u001b[0m\u001b[0mFOBJ\u001b[0m\u001b[0;34m(\u001b[0m\u001b[0mx\u001b[0m\u001b[0;34m)\u001b[0m \u001b[0;31m# vai variar Employed bee por ntrial aqui p iniciar\u001b[0m\u001b[0;34m\u001b[0m\u001b[0;34m\u001b[0m\u001b[0m\n\u001b[1;32m     18\u001b[0m \u001b[0;34m\u001b[0m\u001b[0m\n",
            "\u001b[0;32m<ipython-input-4-76ed4e8f737d>\u001b[0m in \u001b[0;36mFOBJ\u001b[0;34m(X)\u001b[0m\n\u001b[1;32m      9\u001b[0m   \u001b[0mfobj\u001b[0m\u001b[0;34m=\u001b[0m\u001b[0mnp\u001b[0m\u001b[0;34m.\u001b[0m\u001b[0mzeros\u001b[0m\u001b[0;34m(\u001b[0m\u001b[0mrows\u001b[0m\u001b[0;34m)\u001b[0m\u001b[0;34m\u001b[0m\u001b[0;34m\u001b[0m\u001b[0m\n\u001b[1;32m     10\u001b[0m   \u001b[0;32mfor\u001b[0m \u001b[0mi\u001b[0m \u001b[0;32min\u001b[0m \u001b[0mrange\u001b[0m\u001b[0;34m(\u001b[0m\u001b[0mrows\u001b[0m\u001b[0;34m)\u001b[0m\u001b[0;34m:\u001b[0m\u001b[0;34m\u001b[0m\u001b[0;34m\u001b[0m\u001b[0m\n\u001b[0;32m---> 11\u001b[0;31m     \u001b[0mfobj\u001b[0m\u001b[0;34m[\u001b[0m\u001b[0mi\u001b[0m\u001b[0;34m]\u001b[0m\u001b[0;34m=\u001b[0m\u001b[0mFun\u001b[0m\u001b[0;34m(\u001b[0m\u001b[0mX\u001b[0m\u001b[0;34m[\u001b[0m\u001b[0mi\u001b[0m\u001b[0;34m,\u001b[0m\u001b[0;34m]\u001b[0m\u001b[0;34m)\u001b[0m\u001b[0;34m\u001b[0m\u001b[0;34m\u001b[0m\u001b[0m\n\u001b[0m\u001b[1;32m     12\u001b[0m   \u001b[0;32mreturn\u001b[0m \u001b[0mfobj\u001b[0m\u001b[0;34m\u001b[0m\u001b[0;34m\u001b[0m\u001b[0m\n",
            "\u001b[0;32m<ipython-input-3-e276578af271>\u001b[0m in \u001b[0;36mFun\u001b[0;34m(x)\u001b[0m\n\u001b[1;32m      4\u001b[0m     \u001b[0ma\u001b[0m\u001b[0;34m=\u001b[0m\u001b[0;36m1.0\u001b[0m\u001b[0;34m\u001b[0m\u001b[0;34m\u001b[0m\u001b[0m\n\u001b[1;32m      5\u001b[0m     \u001b[0mb\u001b[0m\u001b[0;34m=\u001b[0m\u001b[0;36m100.0\u001b[0m\u001b[0;34m\u001b[0m\u001b[0;34m\u001b[0m\u001b[0m\n\u001b[0;32m----> 6\u001b[0;31m     \u001b[0mfun\u001b[0m \u001b[0;34m=\u001b[0m \u001b[0;34m(\u001b[0m\u001b[0ma\u001b[0m\u001b[0;34m-\u001b[0m\u001b[0mx\u001b[0m\u001b[0;34m[\u001b[0m\u001b[0;36m0\u001b[0m\u001b[0;34m]\u001b[0m\u001b[0;34m)\u001b[0m\u001b[0;34m**\u001b[0m\u001b[0;36m2\u001b[0m \u001b[0;34m+\u001b[0m \u001b[0mb\u001b[0m\u001b[0;34m*\u001b[0m\u001b[0;34m(\u001b[0m\u001b[0mx\u001b[0m\u001b[0;34m[\u001b[0m\u001b[0;36m1\u001b[0m\u001b[0;34m]\u001b[0m\u001b[0;34m-\u001b[0m\u001b[0mx\u001b[0m\u001b[0;34m[\u001b[0m\u001b[0;36m0\u001b[0m\u001b[0;34m]\u001b[0m\u001b[0;34m**\u001b[0m\u001b[0;36m2\u001b[0m\u001b[0;34m)\u001b[0m\u001b[0;34m**\u001b[0m\u001b[0;36m2\u001b[0m\u001b[0;34m\u001b[0m\u001b[0;34m\u001b[0m\u001b[0m\n\u001b[0m\u001b[1;32m      7\u001b[0m     \u001b[0;32mreturn\u001b[0m \u001b[0mfun\u001b[0m\u001b[0;34m\u001b[0m\u001b[0;34m\u001b[0m\u001b[0m\n",
            "\u001b[0;32m/usr/local/lib/python3.6/dist-packages/numpy/matrixlib/defmatrix.py\u001b[0m in \u001b[0;36m__pow__\u001b[0;34m(self, other)\u001b[0m\n\u001b[1;32m    320\u001b[0m \u001b[0;34m\u001b[0m\u001b[0m\n\u001b[1;32m    321\u001b[0m     \u001b[0;32mdef\u001b[0m \u001b[0m__pow__\u001b[0m\u001b[0;34m(\u001b[0m\u001b[0mself\u001b[0m\u001b[0;34m,\u001b[0m \u001b[0mother\u001b[0m\u001b[0;34m)\u001b[0m\u001b[0;34m:\u001b[0m\u001b[0;34m\u001b[0m\u001b[0;34m\u001b[0m\u001b[0m\n\u001b[0;32m--> 322\u001b[0;31m         \u001b[0;32mreturn\u001b[0m \u001b[0mmatrix_power\u001b[0m\u001b[0;34m(\u001b[0m\u001b[0mself\u001b[0m\u001b[0;34m,\u001b[0m \u001b[0mother\u001b[0m\u001b[0;34m)\u001b[0m\u001b[0;34m\u001b[0m\u001b[0;34m\u001b[0m\u001b[0m\n\u001b[0m\u001b[1;32m    323\u001b[0m \u001b[0;34m\u001b[0m\u001b[0m\n\u001b[1;32m    324\u001b[0m     \u001b[0;32mdef\u001b[0m \u001b[0m__ipow__\u001b[0m\u001b[0;34m(\u001b[0m\u001b[0mself\u001b[0m\u001b[0;34m,\u001b[0m \u001b[0mother\u001b[0m\u001b[0;34m)\u001b[0m\u001b[0;34m:\u001b[0m\u001b[0;34m\u001b[0m\u001b[0;34m\u001b[0m\u001b[0m\n",
            "\u001b[0;32m/usr/local/lib/python3.6/dist-packages/numpy/matrixlib/defmatrix.py\u001b[0m in \u001b[0;36mmatrix_power\u001b[0;34m(M, n)\u001b[0m\n\u001b[1;32m    137\u001b[0m     \u001b[0mM\u001b[0m \u001b[0;34m=\u001b[0m \u001b[0masanyarray\u001b[0m\u001b[0;34m(\u001b[0m\u001b[0mM\u001b[0m\u001b[0;34m)\u001b[0m\u001b[0;34m\u001b[0m\u001b[0;34m\u001b[0m\u001b[0m\n\u001b[1;32m    138\u001b[0m     \u001b[0;32mif\u001b[0m \u001b[0mM\u001b[0m\u001b[0;34m.\u001b[0m\u001b[0mndim\u001b[0m \u001b[0;34m!=\u001b[0m \u001b[0;36m2\u001b[0m \u001b[0;32mor\u001b[0m \u001b[0mM\u001b[0m\u001b[0;34m.\u001b[0m\u001b[0mshape\u001b[0m\u001b[0;34m[\u001b[0m\u001b[0;36m0\u001b[0m\u001b[0;34m]\u001b[0m \u001b[0;34m!=\u001b[0m \u001b[0mM\u001b[0m\u001b[0;34m.\u001b[0m\u001b[0mshape\u001b[0m\u001b[0;34m[\u001b[0m\u001b[0;36m1\u001b[0m\u001b[0;34m]\u001b[0m\u001b[0;34m:\u001b[0m\u001b[0;34m\u001b[0m\u001b[0;34m\u001b[0m\u001b[0m\n\u001b[0;32m--> 139\u001b[0;31m         \u001b[0;32mraise\u001b[0m \u001b[0mValueError\u001b[0m\u001b[0;34m(\u001b[0m\u001b[0;34m\"input must be a square array\"\u001b[0m\u001b[0;34m)\u001b[0m\u001b[0;34m\u001b[0m\u001b[0;34m\u001b[0m\u001b[0m\n\u001b[0m\u001b[1;32m    140\u001b[0m     \u001b[0;32mif\u001b[0m \u001b[0;32mnot\u001b[0m \u001b[0missubdtype\u001b[0m\u001b[0;34m(\u001b[0m\u001b[0mtype\u001b[0m\u001b[0;34m(\u001b[0m\u001b[0mn\u001b[0m\u001b[0;34m)\u001b[0m\u001b[0;34m,\u001b[0m \u001b[0mN\u001b[0m\u001b[0;34m.\u001b[0m\u001b[0minteger\u001b[0m\u001b[0;34m)\u001b[0m\u001b[0;34m:\u001b[0m\u001b[0;34m\u001b[0m\u001b[0;34m\u001b[0m\u001b[0m\n\u001b[1;32m    141\u001b[0m         \u001b[0;32mraise\u001b[0m \u001b[0mTypeError\u001b[0m\u001b[0;34m(\u001b[0m\u001b[0;34m\"exponent must be an integer\"\u001b[0m\u001b[0;34m)\u001b[0m\u001b[0;34m\u001b[0m\u001b[0;34m\u001b[0m\u001b[0m\n",
            "\u001b[0;31mValueError\u001b[0m: input must be a square array"
          ]
        }
      ]
    }
  ]
}