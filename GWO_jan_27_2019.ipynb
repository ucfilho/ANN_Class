{
  "nbformat": 4,
  "nbformat_minor": 0,
  "metadata": {
    "colab": {
      "name": "GWO_jan_27_2019.ipynb",
      "version": "0.3.2",
      "provenance": [],
      "collapsed_sections": [],
      "include_colab_link": true
    },
    "kernelspec": {
      "display_name": "Python 3",
      "language": "python",
      "name": "python3"
    }
  },
  "cells": [
    {
      "cell_type": "markdown",
      "metadata": {
        "id": "view-in-github",
        "colab_type": "text"
      },
      "source": [
        "<a href=\"https://colab.research.google.com/github/ucfilho/Codigos_Teste/blob/master/GWO_jan_27_2019.ipynb\" target=\"_parent\"><img src=\"https://colab.research.google.com/assets/colab-badge.svg\" alt=\"Open In Colab\"/></a>"
      ]
    },
    {
      "metadata": {
        "id": "vfr-WJeoITG0",
        "colab_type": "code",
        "colab": {}
      },
      "cell_type": "code",
      "source": [
        "import numpy as np\n",
        "from random import randint"
      ],
      "execution_count": 0,
      "outputs": []
    },
    {
      "metadata": {
        "id": "EFxqMa6NjKVL",
        "colab_type": "code",
        "outputId": "3a08f725-a4ce-4eef-8f70-c5a6a4695646",
        "colab": {
          "base_uri": "https://localhost:8080/",
          "height": 55
        }
      },
      "cell_type": "code",
      "source": [
        "'''\n",
        "GWO - Gray Wolf Optimization\n",
        "O vetor X eh otimizado com X1, X2 e X3 associado as classes alfa, beta e delta\n",
        "O vetor a_k decai linearmente \n",
        "A matriz A_kp vai de para zero (o que gera um espiral de aproximacao)\n",
        "\n",
        "...\n",
        "It's a beautiful day \n",
        "Don't let it get away \n",
        "It's a beautiful day\n",
        "...\n",
        "\n",
        "'''"
      ],
      "execution_count": 2,
      "outputs": [
        {
          "output_type": "execute_result",
          "data": {
            "text/plain": [
              "\"\\nGWO - Gray Wolf Optimization\\nO vetor X eh otimizado com X1, X2 e X3 associado as classes alfa, beta e delta\\nO vetor a_k decai linearmente \\nA matriz A_kp vai de para zero (o que gera um espiral de aproximacao)\\n\\n...\\nIt's a beautiful day \\nDon't let it get away \\nIt's a beautiful day\\n...\\n\\n\""
            ]
          },
          "metadata": {
            "tags": []
          },
          "execution_count": 2
        }
      ]
    },
    {
      "metadata": {
        "id": "XnZITlaYITG_",
        "colab_type": "code",
        "colab": {}
      },
      "cell_type": "code",
      "source": [
        "'''Rosembrock Function'''\n",
        "def Fun(x):\n",
        "    fun=0\n",
        "    a=1.0\n",
        "    b=100.0\n",
        "    fun = (a-x[0])**2 + b*(x[1]-x[0]**2)**2\n",
        "    return fun"
      ],
      "execution_count": 0,
      "outputs": []
    },
    {
      "metadata": {
        "id": "NGpJGJlFITHE",
        "colab_type": "code",
        "colab": {}
      },
      "cell_type": "code",
      "source": [
        "''' \n",
        "FOBJ gera vetorialmente os valores com a funcao objetivo escalar\n",
        "em outras palavras gera para populacao o valor da funcao \n",
        "a ser otimizada\n",
        "'''\n",
        "def FOBJ(X):\n",
        "    rows = X.shape[0]\n",
        "    fobj=np.zeros(rows)\n",
        "    for i in range(rows):\n",
        "        fobj[i]=Fun(X[i,])\n",
        "    return fobj"
      ],
      "execution_count": 0,
      "outputs": []
    },
    {
      "metadata": {
        "id": "ASnJC2jQITHJ",
        "colab_type": "code",
        "colab": {}
      },
      "cell_type": "code",
      "source": [
        "'''Enxame retorna a populacao aleatoria com todos valores entre MIN e MAX'''\n",
        "def Enxame(PAR,NPAR,MAX,MIN):\n",
        "    x=np.zeros((NPAR, len(MAX)))\n",
        "    for j in range(len(MAX)):\n",
        "        for i in range(NPAR):\n",
        "            x[i,j]=MIN[j]+(MAX[j]-MIN[j])*np.random.random()\n",
        "    return x"
      ],
      "execution_count": 0,
      "outputs": []
    },
    {
      "metadata": {
        "id": "De1_VBasITHP",
        "colab_type": "code",
        "colab": {}
      },
      "cell_type": "code",
      "source": [
        "''' \n",
        "Fit ordena os vetores do que fornece MIN a MAX valor de FOBJ : \n",
        "        eh necessario para encontrar alfa, beta e delta (lobos)\n",
        "'''\n",
        "def FIT(X):\n",
        "    fit=np.argsort(X)\n",
        "    return fit"
      ],
      "execution_count": 0,
      "outputs": []
    },
    {
      "metadata": {
        "id": "4XuAl75DB3WZ",
        "colab_type": "code",
        "colab": {}
      },
      "cell_type": "code",
      "source": [
        "''' \n",
        "Matriz_AC \n",
        "  retorna matriz A decrescente q vai 2 a zero\n",
        "  retorna matriz C\n",
        "  A decrescente q vai 2 a zero\n",
        "  C aleatoria q vai de \n",
        "'''\n",
        "def Matriz_AC(a,PAR,NPAR):\n",
        "  A=np.zeros((NPAR, PAR))\n",
        "  C=np.zeros((NPAR, PAR))\n",
        "  for j in range(PAR):\n",
        "    for i in range(NPAR):\n",
        "      A[i,j]=a*(2*np.random.random()-1)\n",
        "      C[i,j]=2*np.random.random()\n",
        "  return A,C"
      ],
      "execution_count": 0,
      "outputs": []
    },
    {
      "metadata": {
        "id": "CpD36qqzN8WL",
        "colab_type": "code",
        "colab": {}
      },
      "cell_type": "code",
      "source": [
        "def Alfa_Beta_Delta(x):\n",
        "  ycal=FOBJ(x)\n",
        "  Ind=FIT(ycal) # ajusta para encontrar o indice dos os lobos alfa, beta e delta\n",
        "  Alfa=x[Ind[0],]\n",
        "  Beta=x[Ind[1],]\n",
        "  Delta=x[Ind[2],]\n",
        "  return Alfa,Beta,Delta"
      ],
      "execution_count": 0,
      "outputs": []
    },
    {
      "metadata": {
        "id": "0f5uCL18JbEK",
        "colab_type": "code",
        "colab": {}
      },
      "cell_type": "code",
      "source": [
        "def New_X(a,PAR,NPAR,Alfa,Beta,Delta,X):\n",
        "  A1,C1=Matriz_AC(a,PAR,NPAR)\n",
        "  A2,C2=Matriz_AC(a,PAR,NPAR)\n",
        "  A3,C3=Matriz_AC(a,PAR,NPAR)\n",
        "  X1=np.zeros((NPAR, PAR))\n",
        "  X2=np.zeros((NPAR, PAR))\n",
        "  X3=np.zeros((NPAR, PAR))\n",
        "  for j in range(PAR):\n",
        "    for i in range(NPAR):\n",
        "      D1=abs(Alfa[0,j]*C1[i,j]-X[i,j])\n",
        "      D2=abs(Beta[0,j]*C2[i,j]-X[i,j])\n",
        "      D3=abs(Delta[0,j]*C3[i,j]-X[i,j])\n",
        "      #D1=float(abs(Alfa[i,j]*C1[i,j]-X[i,j]))\n",
        "      #D2=float(abs(Beta[i,j]*C2[i,j]-X[i,j]))\n",
        "      #D3=float(abs(Delta[i,j]*C3[i,j]-X[i,j]))\n",
        "      X1=Alfa[0,j]-A1[i,j]*D1\n",
        "      X2=Beta[0,j]-A2[i,j]*D2\n",
        "      X3=Delta[0,j]-A3[i,j]*D3\n",
        "      X[i,j]=(X1+X2+X3)/3\n",
        "  return X\n",
        "  "
      ],
      "execution_count": 0,
      "outputs": []
    },
    {
      "metadata": {
        "id": "ZlE0Of68ynkV",
        "colab_type": "code",
        "outputId": "36cf239d-a992-4ddc-f0bc-3be729680dfc",
        "colab": {
          "base_uri": "https://localhost:8080/",
          "height": 371
        }
      },
      "cell_type": "code",
      "source": [
        "NPAR=3 #Lobos\n",
        "\n",
        "ITE=7 #ITERACOES\n",
        "k=1 #contador de iteracoes\n",
        "PAR=2 #NUM DE PARAMETROS A SER OTIMIZADOS\n",
        "MAX=[2,2] # MAXIMO DE CADA PARAMETRO\n",
        "MIN=[-2,-2] # MINIMO DE CADA PARAMETRO\n",
        "x=Enxame(PAR,NPAR,MAX,MIN) # inicializa lobos\n",
        "Alfa,Beta,Delta=Alfa_Beta_Delta(x)\n",
        "while(k<=ITE):\n",
        "  a=2*(k-ITE)/(1-ITE)\n",
        "  k=k+1\n",
        "  x=New_X(a,PAR,NPAR,Alfa,Beta,Delta,x) # atualiza lobos\n",
        "  Alfa,Beta,Delta=Alfa_Beta_Delta(x) # atualiza alfa,beta e delta...\n",
        "  ycal=FOBJ(Alfa)\n",
        "  print(\"x=\",k,\"   \",Alfa,\"fobj=\",ycal,\"\\n\")\n",
        "  \n",
        "  \n",
        "  #print(\"-------\")\n",
        "  #print(a)\n",
        "  #print(A)\n",
        "  #print(C)\n",
        "  \n",
        "print(\"===============\")  \n",
        "print(x)\n",
        "print(ycal)\n",
        "print(Ind)\n",
        "print(ycal[Ind])\n",
        "print(Alfa,\"---\",Beta,\"----\",Delta)"
      ],
      "execution_count": 10,
      "outputs": [
        {
          "output_type": "error",
          "ename": "IndexError",
          "evalue": "ignored",
          "traceback": [
            "\u001b[0;31m---------------------------------------------------------------------------\u001b[0m",
            "\u001b[0;31mIndexError\u001b[0m                                Traceback (most recent call last)",
            "\u001b[0;32m<ipython-input-10-5c654cfc4ca6>\u001b[0m in \u001b[0;36m<module>\u001b[0;34m()\u001b[0m\n\u001b[1;32m     11\u001b[0m   \u001b[0ma\u001b[0m\u001b[0;34m=\u001b[0m\u001b[0;36m2\u001b[0m\u001b[0;34m*\u001b[0m\u001b[0;34m(\u001b[0m\u001b[0mk\u001b[0m\u001b[0;34m-\u001b[0m\u001b[0mITE\u001b[0m\u001b[0;34m)\u001b[0m\u001b[0;34m/\u001b[0m\u001b[0;34m(\u001b[0m\u001b[0;36m1\u001b[0m\u001b[0;34m-\u001b[0m\u001b[0mITE\u001b[0m\u001b[0;34m)\u001b[0m\u001b[0;34m\u001b[0m\u001b[0;34m\u001b[0m\u001b[0m\n\u001b[1;32m     12\u001b[0m   \u001b[0mk\u001b[0m\u001b[0;34m=\u001b[0m\u001b[0mk\u001b[0m\u001b[0;34m+\u001b[0m\u001b[0;36m1\u001b[0m\u001b[0;34m\u001b[0m\u001b[0;34m\u001b[0m\u001b[0m\n\u001b[0;32m---> 13\u001b[0;31m   \u001b[0mx\u001b[0m\u001b[0;34m=\u001b[0m\u001b[0mNew_X\u001b[0m\u001b[0;34m(\u001b[0m\u001b[0ma\u001b[0m\u001b[0;34m,\u001b[0m\u001b[0mPAR\u001b[0m\u001b[0;34m,\u001b[0m\u001b[0mNPAR\u001b[0m\u001b[0;34m,\u001b[0m\u001b[0mAlfa\u001b[0m\u001b[0;34m,\u001b[0m\u001b[0mBeta\u001b[0m\u001b[0;34m,\u001b[0m\u001b[0mDelta\u001b[0m\u001b[0;34m,\u001b[0m\u001b[0mx\u001b[0m\u001b[0;34m)\u001b[0m \u001b[0;31m# atualiza lobos\u001b[0m\u001b[0;34m\u001b[0m\u001b[0;34m\u001b[0m\u001b[0m\n\u001b[0m\u001b[1;32m     14\u001b[0m   \u001b[0mAlfa\u001b[0m\u001b[0;34m,\u001b[0m\u001b[0mBeta\u001b[0m\u001b[0;34m,\u001b[0m\u001b[0mDelta\u001b[0m\u001b[0;34m=\u001b[0m\u001b[0mAlfa_Beta_Delta\u001b[0m\u001b[0;34m(\u001b[0m\u001b[0mx\u001b[0m\u001b[0;34m)\u001b[0m \u001b[0;31m# atualiza alfa,beta e delta...\u001b[0m\u001b[0;34m\u001b[0m\u001b[0;34m\u001b[0m\u001b[0m\n\u001b[1;32m     15\u001b[0m   \u001b[0mycal\u001b[0m\u001b[0;34m=\u001b[0m\u001b[0mFOBJ\u001b[0m\u001b[0;34m(\u001b[0m\u001b[0mAlfa\u001b[0m\u001b[0;34m)\u001b[0m\u001b[0;34m\u001b[0m\u001b[0;34m\u001b[0m\u001b[0m\n",
            "\u001b[0;32m<ipython-input-9-a2162298a5c2>\u001b[0m in \u001b[0;36mNew_X\u001b[0;34m(a, PAR, NPAR, Alfa, Beta, Delta, X)\u001b[0m\n\u001b[1;32m      8\u001b[0m   \u001b[0;32mfor\u001b[0m \u001b[0mj\u001b[0m \u001b[0;32min\u001b[0m \u001b[0mrange\u001b[0m\u001b[0;34m(\u001b[0m\u001b[0mPAR\u001b[0m\u001b[0;34m)\u001b[0m\u001b[0;34m:\u001b[0m\u001b[0;34m\u001b[0m\u001b[0;34m\u001b[0m\u001b[0m\n\u001b[1;32m      9\u001b[0m     \u001b[0;32mfor\u001b[0m \u001b[0mi\u001b[0m \u001b[0;32min\u001b[0m \u001b[0mrange\u001b[0m\u001b[0;34m(\u001b[0m\u001b[0mNPAR\u001b[0m\u001b[0;34m)\u001b[0m\u001b[0;34m:\u001b[0m\u001b[0;34m\u001b[0m\u001b[0;34m\u001b[0m\u001b[0m\n\u001b[0;32m---> 10\u001b[0;31m       \u001b[0mD1\u001b[0m\u001b[0;34m=\u001b[0m\u001b[0mabs\u001b[0m\u001b[0;34m(\u001b[0m\u001b[0mAlfa\u001b[0m\u001b[0;34m[\u001b[0m\u001b[0;36m0\u001b[0m\u001b[0;34m,\u001b[0m\u001b[0mj\u001b[0m\u001b[0;34m]\u001b[0m\u001b[0;34m*\u001b[0m\u001b[0mC1\u001b[0m\u001b[0;34m[\u001b[0m\u001b[0mi\u001b[0m\u001b[0;34m,\u001b[0m\u001b[0mj\u001b[0m\u001b[0;34m]\u001b[0m\u001b[0;34m-\u001b[0m\u001b[0mX\u001b[0m\u001b[0;34m[\u001b[0m\u001b[0mi\u001b[0m\u001b[0;34m,\u001b[0m\u001b[0mj\u001b[0m\u001b[0;34m]\u001b[0m\u001b[0;34m)\u001b[0m\u001b[0;34m\u001b[0m\u001b[0;34m\u001b[0m\u001b[0m\n\u001b[0m\u001b[1;32m     11\u001b[0m       \u001b[0mD2\u001b[0m\u001b[0;34m=\u001b[0m\u001b[0mabs\u001b[0m\u001b[0;34m(\u001b[0m\u001b[0mBeta\u001b[0m\u001b[0;34m[\u001b[0m\u001b[0;36m0\u001b[0m\u001b[0;34m,\u001b[0m\u001b[0mj\u001b[0m\u001b[0;34m]\u001b[0m\u001b[0;34m*\u001b[0m\u001b[0mC2\u001b[0m\u001b[0;34m[\u001b[0m\u001b[0mi\u001b[0m\u001b[0;34m,\u001b[0m\u001b[0mj\u001b[0m\u001b[0;34m]\u001b[0m\u001b[0;34m-\u001b[0m\u001b[0mX\u001b[0m\u001b[0;34m[\u001b[0m\u001b[0mi\u001b[0m\u001b[0;34m,\u001b[0m\u001b[0mj\u001b[0m\u001b[0;34m]\u001b[0m\u001b[0;34m)\u001b[0m\u001b[0;34m\u001b[0m\u001b[0;34m\u001b[0m\u001b[0m\n\u001b[1;32m     12\u001b[0m       \u001b[0mD3\u001b[0m\u001b[0;34m=\u001b[0m\u001b[0mabs\u001b[0m\u001b[0;34m(\u001b[0m\u001b[0mDelta\u001b[0m\u001b[0;34m[\u001b[0m\u001b[0;36m0\u001b[0m\u001b[0;34m,\u001b[0m\u001b[0mj\u001b[0m\u001b[0;34m]\u001b[0m\u001b[0;34m*\u001b[0m\u001b[0mC3\u001b[0m\u001b[0;34m[\u001b[0m\u001b[0mi\u001b[0m\u001b[0;34m,\u001b[0m\u001b[0mj\u001b[0m\u001b[0;34m]\u001b[0m\u001b[0;34m-\u001b[0m\u001b[0mX\u001b[0m\u001b[0;34m[\u001b[0m\u001b[0mi\u001b[0m\u001b[0;34m,\u001b[0m\u001b[0mj\u001b[0m\u001b[0;34m]\u001b[0m\u001b[0;34m)\u001b[0m\u001b[0;34m\u001b[0m\u001b[0;34m\u001b[0m\u001b[0m\n",
            "\u001b[0;31mIndexError\u001b[0m: too many indices for array"
          ]
        }
      ]
    },
    {
      "metadata": {
        "id": "vJcEYWtRITHy",
        "colab_type": "code",
        "colab": {}
      },
      "cell_type": "code",
      "source": [
        "\n",
        "'''\n",
        "Metodo que alterna e coordena o uso employers,onlooker, scout bees\n",
        "e greedy search\n",
        "\n",
        "'''\n",
        "'''def ABCOPtim(ITE,PAR,ntrail,NPAR,MAX,MIN):\n",
        "\n",
        "    trial=1 # inicializa contador p abandonar fonte de alimento\n",
        "    xbest=Enxame(PAR,1,MAX,MIN)[0,] #inicializa xbest\n",
        "    xo=Enxame(PAR,NPAR,MAX,MIN) # inicializa employed bee-parte 1\n",
        "    vbest_old=Fun(xbest)\n",
        "    vbest_new=Fun(xbest)\n",
        "    \n",
        "    for i in range(ITE):\n",
        "      x=Enxame(PAR,NPAR,MAX,MIN) # inicializa employed bee-parte 1\n",
        "      if(vbest_new==vbest_old):\n",
        "        trial=trial+1\n",
        "      if(trial==ntrail):\n",
        "        xo=Enxame(PAR,NPAR,MAX,MIN) # abandona a fonte de alimento antiga\n",
        "        trial=0\n",
        "      x_Employed=EmployedBee(xo,x,MAX,MIN)\n",
        "      xbest=GetBest(x_Employed,xbest)\n",
        "      vbest_new=Fun(xbest)\n",
        "      xo=Enxame(PAR,NPAR,MAX,MIN) # inicializa OnlookerBee\n",
        "      x_Onlooker=OnlookerBee(xo,x_Employed)\n",
        "      xbest=GetBest(x_Onlooker,xbest)\n",
        "      x_Scout=Enxame(PAR,NPAR,MAX,MIN) # inicializa ScoutBee ( a rigor so esta linha basta)\n",
        "      xbest=GetBest(x_Scout,xbest)\n",
        "    return xbest  '''"
      ],
      "execution_count": 0,
      "outputs": []
    },
    {
      "metadata": {
        "id": "Ntt06i68Deml",
        "colab_type": "code",
        "colab": {}
      },
      "cell_type": "code",
      "source": [
        "t=-3.5\n",
        "print(abs(t))"
      ],
      "execution_count": 0,
      "outputs": []
    },
    {
      "metadata": {
        "id": "P34n3mljITH2",
        "colab_type": "code",
        "colab": {}
      },
      "cell_type": "code",
      "source": [
        "'''NPAR=100 #PARTICULAS\n",
        "ITE=1000 #ITERACOES\n",
        "PAR=2 #NUM DE PARAMETROS A SER OTIMIZADOS\n",
        "MAX=[2,2] # MAXIMO DE CADA PARAMETRO\n",
        "MIN=[-2,-2] # MINIMO DE CADA PARAMETRO\n",
        "ntrail=100 #numero de buscas ate abandonar uma fonte de alimento\n",
        "\n",
        "for i in range(6):\n",
        "    print(\"resolucao\",i+1,\" \")\n",
        "    xbest=ABCOPtim(ITE,PAR,ntrail,NPAR,MAX,MIN)\n",
        "    print(\"vetor\",xbest,\"funcao\", Fun(xbest),\"\\n\")'''"
      ],
      "execution_count": 0,
      "outputs": []
    }
  ]
}