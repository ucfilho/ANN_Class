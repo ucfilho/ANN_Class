{
  "nbformat": 4,
  "nbformat_minor": 0,
  "metadata": {
    "colab": {
      "name": "FireflyOptimization_ago_04_2019.ipynb",
      "version": "0.3.2",
      "provenance": [],
      "collapsed_sections": [],
      "include_colab_link": true
    },
    "kernelspec": {
      "name": "python3",
      "display_name": "Python 3"
    }
  },
  "cells": [
    {
      "cell_type": "markdown",
      "metadata": {
        "id": "view-in-github",
        "colab_type": "text"
      },
      "source": [
        "<a href=\"https://colab.research.google.com/github/ucfilho/Codigos_Teste/blob/master/FireflyOptimization_ago_04_2019.ipynb\" target=\"_parent\"><img src=\"https://colab.research.google.com/assets/colab-badge.svg\" alt=\"Open In Colab\"/></a>"
      ]
    },
    {
      "cell_type": "code",
      "metadata": {
        "id": "BfWZEAyt-WKf",
        "colab_type": "code",
        "outputId": "4cd2032c-f614-401c-f44a-bdefe5bb50f6",
        "colab": {
          "base_uri": "https://localhost:8080/",
          "height": 35
        }
      },
      "source": [
        "\n",
        "import numpy as np\n",
        "from random import randint\n",
        "print(\"hello world, I am envolving !!!!\")"
      ],
      "execution_count": 2,
      "outputs": [
        {
          "output_type": "stream",
          "text": [
            "hello world, I am envolving !!!!\n"
          ],
          "name": "stdout"
        }
      ]
    },
    {
      "cell_type": "code",
      "metadata": {
        "id": "86jqs7OcAEEj",
        "colab_type": "code",
        "outputId": "b8e9a527-d187-4f8f-b10c-29ca0a45b9e9",
        "colab": {
          "base_uri": "https://localhost:8080/",
          "height": 217
        }
      },
      "source": [
        "NP=10\n",
        "zn=np.ones(NP)*1E100\n",
        "print(zn)\n",
        "print(10**3)\n",
        "print(10.0**(-4.0)/0.9)\n",
        "i=2\n",
        "for j in range(i+1,NP):\n",
        "  print(j)"
      ],
      "execution_count": 3,
      "outputs": [
        {
          "output_type": "stream",
          "text": [
            "[1.e+100 1.e+100 1.e+100 1.e+100 1.e+100 1.e+100 1.e+100 1.e+100 1.e+100\n",
            " 1.e+100]\n",
            "1000\n",
            "0.00011111111111111112\n",
            "3\n",
            "4\n",
            "5\n",
            "6\n",
            "7\n",
            "8\n",
            "9\n"
          ],
          "name": "stdout"
        }
      ]
    },
    {
      "cell_type": "code",
      "metadata": {
        "id": "Y2WbkWEu-meR",
        "colab_type": "code",
        "colab": {}
      },
      "source": [
        "'''Rosembrock Function'''\n",
        "def funobj(x):\n",
        "    fun=0\n",
        "    a=1.0\n",
        "    b=100.0\n",
        "    fun = (a-x[0])**2 + b*(x[1]-x[0]**2)**2\n",
        "    return fun"
      ],
      "execution_count": 0,
      "outputs": []
    },
    {
      "cell_type": "code",
      "metadata": {
        "id": "Etoa7QpFA53A",
        "colab_type": "code",
        "colab": {}
      },
      "source": [
        " # Population initial\n",
        "  def init_ffa(NP,D,MIN,MAX):\n",
        "    for i in range(NP):\n",
        "      for j in range(D):\n",
        "        ns[i,j]=MIN[j]+(MAX[j]-MIN[j])*np.random.random()\n",
        "    Lightn=np.ones(NP)*1E100\n",
        "    return ns,Lightn"
      ],
      "execution_count": 0,
      "outputs": []
    },
    {
      "cell_type": "code",
      "metadata": {
        "id": "GTcn40PFCSYC",
        "colab_type": "code",
        "colab": {}
      },
      "source": [
        "  #optionally recalculate the new alpha value\n",
        "  def alpha_new(alpha,NGen):\n",
        "    delta=1-(0.005/0.9)**(1/NGen)\n",
        "    #delta =1-(10.0**(-4.0)/0.9)**(1/NGen)\n",
        "    alpha=(1-delta)*alpha\n",
        "    return alpha"
      ],
      "execution_count": 0,
      "outputs": []
    },
    {
      "cell_type": "code",
      "metadata": {
        "id": "JAhNutWCC-ab",
        "colab_type": "code",
        "colab": {}
      },
      "source": [
        "#Make sure the fireflies are within the bounds/limits\n",
        "def findlimits(NP,ns,MIN,MAX):\n",
        "  for i in range(NP):\n",
        "    D=len(ns[0,:])\n",
        "    for j in range(D):\n",
        "      if(ns[i,j] < MIN[j]):\n",
        "        ns[i,j] = MIN[j]\n",
        "      if(ns[i,j] > MAX[j]):\n",
        "        ns[i,j] = MAX[j]\n",
        "\treturn ns"
      ],
      "execution_count": 0,
      "outputs": []
    },
    {
      "cell_type": "code",
      "metadata": {
        "id": "H10YY1k0GJdu",
        "colab_type": "code",
        "colab": {}
      },
      "source": [
        "# implementation of bubble sort\n",
        "def gsort(I,NP):# I representa zn q futuramente vai deixar se ser usado....\n",
        "  # initialization of indexes\n",
        "  Index=[]\n",
        "\tfor i in range(NP):\n",
        "\t\tIndex.appended(i)\n",
        "\n",
        "\t# Bubble sort\n",
        "\tfor i in range(NP-1):\n",
        "    for j in range(i+1,NP):\n",
        "      if(I[i] > I[j]):\n",
        "        z=[]\n",
        "        z = I[i] # exchange attractiveness\n",
        "        I[i] = I[j]\n",
        "        I[j] = z\n",
        "        k=[]\n",
        "        k = Index[i]\n",
        "        Index[i] = Index[j]\n",
        "\t\t\t\tIndex[j] = k\n",
        "    return I,Index"
      ],
      "execution_count": 0,
      "outputs": []
    },
    {
      "cell_type": "code",
      "metadata": {
        "id": "AYkg2_KQR_46",
        "colab_type": "code",
        "colab": {}
      },
      "source": [
        "# Move all fireflies to the better locations\n",
        "# ns =ffa_move(NP,D,ns,Lightn,nso,Lighto,nbest,Lightbest,alpha,betamin,gammap,MIN,MAX)\n",
        "def ffa_move(NP,D,ns,Lightn,nso,Lighto,nbest,Lightbest,alpha,betamin,gammap,MIN,MAX):\n",
        "  "
      ],
      "execution_count": 0,
      "outputs": []
    },
    {
      "cell_type": "code",
      "metadata": {
        "id": "tniTList-9SV",
        "colab_type": "code",
        "colab": {}
      },
      "source": [
        "#function [XBest,FBest,NumEval]=fflyalg(D,NP,MaxGeneration,alpha,betamin,MIN,MAX,y);\n",
        "def fflyalg(D,NP,MaxGeneration,alpha,betamin,MIN,MAX):\n",
        "  gammap=1\n",
        "  NumEval=0\n",
        "  #Initial values of an array\n",
        "  \n",
        "  zn=np.ones(NP)*1E100\n",
        "  # ------------------------------------------------\n",
        "  # generating the initial locations of n fireflies\n",
        "  ns,Lightn=init_ffa(NP,D,MIN,MAX)\n",
        "  NumEval=[]\n",
        "  NumEval=NumEval+NP\n",
        "  XBest=ns[0,:]\n",
        "  FBest=Lightn[0]\n",
        "\n",
        "  #Iterations or pseudo time marching\n",
        "  for k in range(MaxGeneration):#start iterations\n",
        "    #This line of reducing alpha is optional\n",
        "    alpha=alpha_new(alpha,MaxGeneration)\n",
        "    \n",
        "\n",
        "  # Evaluate new solutions \n",
        "  for i in range(NP):\n",
        "    zn[i]=funobj(ns[i,:])\n",
        "    NumEval=NumEval+1\n",
        "    Lightn[i]=zn[i]\n",
        "  \n",
        "\n",
        "  # Ranking fireflies by their light intensity/objectives\n",
        "  Lightn,Index=gsort(zn,NP)\n",
        "  # Lightn,Index =gsort(zn,'r','i') # futuro nome desta funcao: sort_ffa\n",
        "  # futuro nome de Lightn is I ou ffa????\n",
        "  ns_tmp=np.zeros((NP,D)) \n",
        "  for i in range(NP):\n",
        "    ns_tmp[i,:]=ns[Index(i),:]\n",
        "  ns=ns_tmp\n",
        "\n",
        "  # Find the current best\n",
        "  nso=ns\n",
        "  Lighto=Lightn\n",
        "  nbest=ns[0,:]\n",
        "  Lightbest=Lightn[0]\n",
        "  \n",
        "  fbest=Lightbest # aparentemente nao precisa desta linha pode usar direto Lightbest\n",
        "  \n",
        "  # if current best is better than global best replace global by local best\n",
        "  if (fbest<FBest):\n",
        "    XBest=nbest\n",
        "    FBest=fbest\n",
        "\n",
        "  # Move all fireflies to the better locations\n",
        "  ns =ffa_move(NP,D,ns,Lightn,nso,Lighto,nbest,Lightbest,alpha,betamin,gammap,MIN,MAX)\n",
        "  \n",
        "  return XBest,FBest,NumEval\n",
        "\n"
      ],
      "execution_count": 0,
      "outputs": []
    }
  ]
}