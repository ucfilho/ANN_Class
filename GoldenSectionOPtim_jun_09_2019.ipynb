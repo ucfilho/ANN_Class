{
  "nbformat": 4,
  "nbformat_minor": 0,
  "metadata": {
    "colab": {
      "name": "GoldenSectionOPtim_jun_09_2019.ipynb",
      "version": "0.3.2",
      "provenance": [],
      "collapsed_sections": [],
      "include_colab_link": true
    },
    "kernelspec": {
      "name": "python3",
      "display_name": "Python 3"
    }
  },
  "cells": [
    {
      "cell_type": "markdown",
      "metadata": {
        "id": "view-in-github",
        "colab_type": "text"
      },
      "source": [
        "<a href=\"https://colab.research.google.com/github/ucfilho/Codigos_Teste/blob/master/GoldenSectionOPtim_jun_09_2019.ipynb\" target=\"_parent\"><img src=\"https://colab.research.google.com/assets/colab-badge.svg\" alt=\"Open In Colab\"/></a>"
      ]
    },
    {
      "cell_type": "code",
      "metadata": {
        "id": "NhquPhp8AnrK",
        "colab_type": "code",
        "colab": {}
      },
      "source": [
        "import numpy as np\n",
        "import pandas as pd\n",
        "from scipy import optimize"
      ],
      "execution_count": 0,
      "outputs": []
    },
    {
      "cell_type": "code",
      "metadata": {
        "id": "KwqpdkPbArHW",
        "colab_type": "code",
        "colab": {}
      },
      "source": [
        "'''Rosembrock Function'''\n",
        "def Fun(x):\n",
        "  fun=0\n",
        "  a=1.0\n",
        "  b=100.0\n",
        "  fun = (a-x[0])**2 + b*(x[1]-x[0]**2)**2\n",
        "  return fun"
      ],
      "execution_count": 0,
      "outputs": []
    },
    {
      "cell_type": "code",
      "metadata": {
        "id": "h50KpiG1A6A6",
        "colab_type": "code",
        "colab": {
          "base_uri": "https://localhost:8080/",
          "height": 55
        },
        "outputId": "ec188943-6b10-420c-c4b6-28e641580b26"
      },
      "source": [
        "'''bounds = [(-2, 2), (-2, 2)]\n",
        "ret = optimize.differential_evolution(function,bounds,\n",
        "                                      init=\"latinhypercube\", # obs: init=\"random\"\n",
        "                                      maxiter=100, popsize=50,recombination=0.5)'''"
      ],
      "execution_count": 11,
      "outputs": [
        {
          "output_type": "execute_result",
          "data": {
            "text/plain": [
              "'bounds = [(-2, 2), (-2, 2)]\\nret = optimize.differential_evolution(function,bounds,\\n                                      init=\"latinhypercube\", # obs: init=\"random\"\\n                                      maxiter=100, popsize=50,recombination=0.5)'"
            ]
          },
          "metadata": {
            "tags": []
          },
          "execution_count": 11
        }
      ]
    },
    {
      "cell_type": "code",
      "metadata": {
        "id": "bIgjNxroA-iB",
        "colab_type": "code",
        "outputId": "817f24d8-6926-4506-a25d-57066d9ae340",
        "colab": {
          "base_uri": "https://localhost:8080/",
          "height": 35
        }
      },
      "source": [
        "'''print(\"global minimum: x = \",ret.x, \"f(x0) = \",ret.fun)'''"
      ],
      "execution_count": 12,
      "outputs": [
        {
          "output_type": "execute_result",
          "data": {
            "text/plain": [
              "'print(\"global minimum: x = \",ret.x, \"f(x0) = \",ret.fun)'"
            ]
          },
          "metadata": {
            "tags": []
          },
          "execution_count": 12
        }
      ]
    },
    {
      "cell_type": "code",
      "metadata": {
        "id": "othFtca3Dfzh",
        "colab_type": "code",
        "colab": {
          "base_uri": "https://localhost:8080/",
          "height": 54
        },
        "outputId": "1a167e0f-8aff-42f4-db49-414dd841c2ae"
      },
      "source": [
        "phi = (1.0 + np.sqrt(5.0))/2.0\n",
        "print(phi)\n",
        "x=3\n",
        "dx=5\n",
        "a=dx/phi\n",
        "b=dx-a\n",
        "xl=x-b\n",
        "xr=x+a\n",
        "print([a,b,xr,xl,a/b])"
      ],
      "execution_count": 13,
      "outputs": [
        {
          "output_type": "stream",
          "text": [
            "1.618033988749895\n",
            "[3.090169943749474, 1.909830056250526, 6.0901699437494745, 1.090169943749474, 1.6180339887498947]\n"
          ],
          "name": "stdout"
        }
      ]
    },
    {
      "cell_type": "code",
      "metadata": {
        "id": "v0P48D4gHZwE",
        "colab_type": "code",
        "colab": {
          "base_uri": "https://localhost:8080/",
          "height": 35
        },
        "outputId": "3fd1f081-c7e0-4fd9-8143-9f33f386ac80"
      },
      "source": [
        "x =  [1., 1.]\n",
        "print(len(x))"
      ],
      "execution_count": 14,
      "outputs": [
        {
          "output_type": "stream",
          "text": [
            "2\n"
          ],
          "name": "stdout"
        }
      ]
    },
    {
      "cell_type": "code",
      "metadata": {
        "id": "peTYHsKzEZAz",
        "colab_type": "code",
        "colab": {}
      },
      "source": [
        "def GoldenSearch(x,dx,ITE,MIN,MAX):\n",
        "  Num=len(x)\n",
        "  phi = (1.0 + np.sqrt(5.0))/2.0\n",
        "  x=np.array(x)\n",
        "  dx=np.array(dx)\n",
        "  for k in range(ITE):\n",
        "    for i in range(Num):\n",
        "      xo=np.copy(x)\n",
        "      yopt=Fun(x)\n",
        "      xop=xo[i]\n",
        "      delta=np.copy(dx[i])\n",
        "      a=delta/phi\n",
        "      b=delta-a\n",
        "      xl=xop-b\n",
        "      xr=xop+a\n",
        "      xo[i]=np.copy(xl)\n",
        "      yl=Fun(xo)\n",
        "      xo[i]=np.copy(xr)\n",
        "      yr=Fun(xo)\n",
        "    \n",
        "      if (yr < yl):\n",
        "        x[i]=np.copy(xr)\n",
        "        dx[i]=a\n",
        "      else:\n",
        "        x[i]=np.copy(xr)\n",
        "        dx[i]=b\n",
        "  return x\n"
      ],
      "execution_count": 0,
      "outputs": []
    },
    {
      "cell_type": "code",
      "metadata": {
        "id": "r643YRAeEa-j",
        "colab_type": "code",
        "colab": {
          "base_uri": "https://localhost:8080/",
          "height": 353
        },
        "outputId": "992bd417-b0d4-4e21-fa8d-c1708a01a124"
      },
      "source": [
        "dx=10\n",
        "x=[2,2]\n",
        "ITE=30\n",
        "MIN=[-2,-2]\n",
        "MAX=[2,2]\n",
        "x=GoldenSearch(x,dx,ITE,MIN,MAX)\n",
        "print(\"vetor\",x,\"funcao\", Fun(x),\"\\n\")"
      ],
      "execution_count": 16,
      "outputs": [
        {
          "output_type": "error",
          "ename": "IndexError",
          "evalue": "ignored",
          "traceback": [
            "\u001b[0;31m---------------------------------------------------------------------------\u001b[0m",
            "\u001b[0;31mIndexError\u001b[0m                                Traceback (most recent call last)",
            "\u001b[0;32m<ipython-input-16-567b3e6a42ab>\u001b[0m in \u001b[0;36m<module>\u001b[0;34m()\u001b[0m\n\u001b[1;32m      4\u001b[0m \u001b[0mMIN\u001b[0m\u001b[0;34m=\u001b[0m\u001b[0;34m[\u001b[0m\u001b[0;34m-\u001b[0m\u001b[0;36m2\u001b[0m\u001b[0;34m,\u001b[0m\u001b[0;34m-\u001b[0m\u001b[0;36m2\u001b[0m\u001b[0;34m]\u001b[0m\u001b[0;34m\u001b[0m\u001b[0;34m\u001b[0m\u001b[0m\n\u001b[1;32m      5\u001b[0m \u001b[0mMAX\u001b[0m\u001b[0;34m=\u001b[0m\u001b[0;34m[\u001b[0m\u001b[0;36m2\u001b[0m\u001b[0;34m,\u001b[0m\u001b[0;36m2\u001b[0m\u001b[0;34m]\u001b[0m\u001b[0;34m\u001b[0m\u001b[0;34m\u001b[0m\u001b[0m\n\u001b[0;32m----> 6\u001b[0;31m \u001b[0mx\u001b[0m\u001b[0;34m=\u001b[0m\u001b[0mGoldenSearch\u001b[0m\u001b[0;34m(\u001b[0m\u001b[0mx\u001b[0m\u001b[0;34m,\u001b[0m\u001b[0mdx\u001b[0m\u001b[0;34m,\u001b[0m\u001b[0mITE\u001b[0m\u001b[0;34m,\u001b[0m\u001b[0mMIN\u001b[0m\u001b[0;34m,\u001b[0m\u001b[0mMAX\u001b[0m\u001b[0;34m)\u001b[0m\u001b[0;34m\u001b[0m\u001b[0;34m\u001b[0m\u001b[0m\n\u001b[0m\u001b[1;32m      7\u001b[0m \u001b[0mprint\u001b[0m\u001b[0;34m(\u001b[0m\u001b[0;34m\"vetor\"\u001b[0m\u001b[0;34m,\u001b[0m\u001b[0mx\u001b[0m\u001b[0;34m,\u001b[0m\u001b[0;34m\"funcao\"\u001b[0m\u001b[0;34m,\u001b[0m \u001b[0mFun\u001b[0m\u001b[0;34m(\u001b[0m\u001b[0mx\u001b[0m\u001b[0;34m)\u001b[0m\u001b[0;34m,\u001b[0m\u001b[0;34m\"\\n\"\u001b[0m\u001b[0;34m)\u001b[0m\u001b[0;34m\u001b[0m\u001b[0;34m\u001b[0m\u001b[0m\n",
            "\u001b[0;32m<ipython-input-15-7cb891da6032>\u001b[0m in \u001b[0;36mGoldenSearch\u001b[0;34m(x, dx, ITE, MIN, MAX)\u001b[0m\n\u001b[1;32m      9\u001b[0m       \u001b[0myopt\u001b[0m\u001b[0;34m=\u001b[0m\u001b[0mFun\u001b[0m\u001b[0;34m(\u001b[0m\u001b[0mx\u001b[0m\u001b[0;34m)\u001b[0m\u001b[0;34m\u001b[0m\u001b[0;34m\u001b[0m\u001b[0m\n\u001b[1;32m     10\u001b[0m       \u001b[0mxop\u001b[0m\u001b[0;34m=\u001b[0m\u001b[0mxo\u001b[0m\u001b[0;34m[\u001b[0m\u001b[0mi\u001b[0m\u001b[0;34m]\u001b[0m\u001b[0;34m\u001b[0m\u001b[0;34m\u001b[0m\u001b[0m\n\u001b[0;32m---> 11\u001b[0;31m       \u001b[0mdelta\u001b[0m\u001b[0;34m=\u001b[0m\u001b[0mnp\u001b[0m\u001b[0;34m.\u001b[0m\u001b[0mcopy\u001b[0m\u001b[0;34m(\u001b[0m\u001b[0mdx\u001b[0m\u001b[0;34m[\u001b[0m\u001b[0mi\u001b[0m\u001b[0;34m]\u001b[0m\u001b[0;34m)\u001b[0m\u001b[0;34m\u001b[0m\u001b[0;34m\u001b[0m\u001b[0m\n\u001b[0m\u001b[1;32m     12\u001b[0m       \u001b[0ma\u001b[0m\u001b[0;34m=\u001b[0m\u001b[0mdelta\u001b[0m\u001b[0;34m/\u001b[0m\u001b[0mphi\u001b[0m\u001b[0;34m\u001b[0m\u001b[0;34m\u001b[0m\u001b[0m\n\u001b[1;32m     13\u001b[0m       \u001b[0mb\u001b[0m\u001b[0;34m=\u001b[0m\u001b[0mdelta\u001b[0m\u001b[0;34m-\u001b[0m\u001b[0ma\u001b[0m\u001b[0;34m\u001b[0m\u001b[0;34m\u001b[0m\u001b[0m\n",
            "\u001b[0;31mIndexError\u001b[0m: too many indices for array"
          ]
        }
      ]
    }
  ]
}