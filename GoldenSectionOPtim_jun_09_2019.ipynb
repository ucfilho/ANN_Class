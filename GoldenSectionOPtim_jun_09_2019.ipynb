{
  "nbformat": 4,
  "nbformat_minor": 0,
  "metadata": {
    "colab": {
      "name": "GoldenSectionOPtim_jun_09_2019.ipynb",
      "version": "0.3.2",
      "provenance": [],
      "collapsed_sections": [],
      "include_colab_link": true
    },
    "kernelspec": {
      "name": "python3",
      "display_name": "Python 3"
    }
  },
  "cells": [
    {
      "cell_type": "markdown",
      "metadata": {
        "id": "view-in-github",
        "colab_type": "text"
      },
      "source": [
        "<a href=\"https://colab.research.google.com/github/ucfilho/Codigos_Teste/blob/master/GoldenSectionOPtim_jun_09_2019.ipynb\" target=\"_parent\"><img src=\"https://colab.research.google.com/assets/colab-badge.svg\" alt=\"Open In Colab\"/></a>"
      ]
    },
    {
      "cell_type": "code",
      "metadata": {
        "id": "NhquPhp8AnrK",
        "colab_type": "code",
        "colab": {}
      },
      "source": [
        "import numpy as np\n",
        "import pandas as pd\n",
        "from scipy import optimize"
      ],
      "execution_count": 0,
      "outputs": []
    },
    {
      "cell_type": "code",
      "metadata": {
        "id": "KwqpdkPbArHW",
        "colab_type": "code",
        "colab": {}
      },
      "source": [
        "'''Rosembrock Function'''\n",
        "def Fun(x):\n",
        "  fun=0\n",
        "  a=1.0\n",
        "  b=100.0\n",
        "  fun = (a-x[0])**2 + b*(x[1]-x[0]**2)**2\n",
        "  return fun"
      ],
      "execution_count": 0,
      "outputs": []
    },
    {
      "cell_type": "code",
      "metadata": {
        "id": "h50KpiG1A6A6",
        "colab_type": "code",
        "outputId": "389bc357-8188-449c-bd05-1c7f6dcdd068",
        "colab": {
          "base_uri": "https://localhost:8080/",
          "height": 55
        }
      },
      "source": [
        "'''bounds = [(-2, 2), (-2, 2)]\n",
        "ret = optimize.differential_evolution(function,bounds,\n",
        "                                      init=\"latinhypercube\", # obs: init=\"random\"\n",
        "                                      maxiter=100, popsize=50,recombination=0.5)'''"
      ],
      "execution_count": 3,
      "outputs": [
        {
          "output_type": "execute_result",
          "data": {
            "text/plain": [
              "'bounds = [(-2, 2), (-2, 2)]\\nret = optimize.differential_evolution(function,bounds,\\n                                      init=\"latinhypercube\", # obs: init=\"random\"\\n                                      maxiter=100, popsize=50,recombination=0.5)'"
            ]
          },
          "metadata": {
            "tags": []
          },
          "execution_count": 3
        }
      ]
    },
    {
      "cell_type": "code",
      "metadata": {
        "id": "bIgjNxroA-iB",
        "colab_type": "code",
        "outputId": "37fddc09-5719-4ce6-985b-063afa10f81f",
        "colab": {
          "base_uri": "https://localhost:8080/",
          "height": 35
        }
      },
      "source": [
        "'''print(\"global minimum: x = \",ret.x, \"f(x0) = \",ret.fun)'''"
      ],
      "execution_count": 4,
      "outputs": [
        {
          "output_type": "execute_result",
          "data": {
            "text/plain": [
              "'print(\"global minimum: x = \",ret.x, \"f(x0) = \",ret.fun)'"
            ]
          },
          "metadata": {
            "tags": []
          },
          "execution_count": 4
        }
      ]
    },
    {
      "cell_type": "code",
      "metadata": {
        "id": "othFtca3Dfzh",
        "colab_type": "code",
        "outputId": "8a0efcac-48ab-4353-c4dc-658badf80432",
        "colab": {
          "base_uri": "https://localhost:8080/",
          "height": 54
        }
      },
      "source": [
        "phi = (1.0 + np.sqrt(5.0))/2.0\n",
        "print(phi)\n",
        "x=3\n",
        "dx=5\n",
        "a=dx/phi\n",
        "b=dx-a\n",
        "xl=x-b\n",
        "xr=x+a\n",
        "print([a,b,xr,xl,a/b])"
      ],
      "execution_count": 5,
      "outputs": [
        {
          "output_type": "stream",
          "text": [
            "1.618033988749895\n",
            "[3.090169943749474, 1.909830056250526, 6.0901699437494745, 1.090169943749474, 1.6180339887498947]\n"
          ],
          "name": "stdout"
        }
      ]
    },
    {
      "cell_type": "code",
      "metadata": {
        "id": "v0P48D4gHZwE",
        "colab_type": "code",
        "outputId": "3a9d2f81-25f0-43f8-8f4d-8bb9fc85e1a2",
        "colab": {
          "base_uri": "https://localhost:8080/",
          "height": 35
        }
      },
      "source": [
        "x =  [1., 1.]\n",
        "print(len(x))"
      ],
      "execution_count": 6,
      "outputs": [
        {
          "output_type": "stream",
          "text": [
            "2\n"
          ],
          "name": "stdout"
        }
      ]
    },
    {
      "cell_type": "code",
      "metadata": {
        "id": "peTYHsKzEZAz",
        "colab_type": "code",
        "colab": {}
      },
      "source": [
        "def GoldenSearch(x,dx,ITE,MIN,MAX):\n",
        "  \n",
        "  Num=len(x)\n",
        "  varia=np.copy(dx)\n",
        "  phi = (1.0 + np.sqrt(5.0))/2.0\n",
        "  xo=np.copy(x)\n",
        "\n",
        "  for k in range(ITE):\n",
        "    for i in range(Num):\n",
        "\n",
        "      yopt=Fun(x)\n",
        "      xop=xo[i]\n",
        "      delta=np.copy(dx[i])\n",
        "      \n",
        "      a=delta/phi\n",
        "      b=delta-a\n",
        "      xl=xop-b\n",
        "      xr=xop+a\n",
        "      xo[i]=np.copy(xl)\n",
        "      yl=Fun(xo)\n",
        "      xo[i]=np.copy(xr)\n",
        "      yr=Fun(xo)\n",
        "      \n",
        "      if (yr <  yl):\n",
        "        x[i]=np.copy(xr)\n",
        "        dx[i]=np.copy(a)\n",
        "      else:\n",
        "        x[i]=np.copy(xl)\n",
        "        dx[i]=np.copy(b)\n",
        "        \n",
        "      varia[i]=dx[i]\n",
        "      print(dx)\n",
        "      print([a,b,x,Fun(x)])\n",
        "      xo=np.copy(x)\n",
        "  return x, varia\n"
      ],
      "execution_count": 0,
      "outputs": []
    },
    {
      "cell_type": "code",
      "metadata": {
        "id": "r643YRAeEa-j",
        "colab_type": "code",
        "outputId": "96e1259c-e157-46e9-f8e2-88495cb2e499",
        "colab": {
          "base_uri": "https://localhost:8080/",
          "height": 217
        }
      },
      "source": [
        "dx=np.array([5,4])\n",
        "x=np.array([2,2])\n",
        "ITE=2\n",
        "MIN=[-5,-2]\n",
        "MAX=[2,2]\n",
        "x,varia=GoldenSearch(x,dx,ITE,MIN,MAX)\n",
        "print(\"vetor\",x,\"funcao\", Fun(x),\"\\n\")\n",
        "print(varia)"
      ],
      "execution_count": 8,
      "outputs": [
        {
          "output_type": "stream",
          "text": [
            "[1 4]\n",
            "[3.090169943749474, 1.909830056250526, array([0, 2]), 401.0]\n",
            "[1 1]\n",
            "[2.472135954999579, 1.5278640450004208, array([0, 0]), 1.0]\n",
            "[0 1]\n",
            "[0.6180339887498948, 0.3819660112501052, array([0, 0]), 1.0]\n",
            "[0 0]\n",
            "[0.6180339887498948, 0.3819660112501052, array([0, 0]), 1.0]\n",
            "vetor [0 0] funcao 1.0 \n",
            "\n",
            "[0 0]\n"
          ],
          "name": "stdout"
        }
      ]
    }
  ]
}