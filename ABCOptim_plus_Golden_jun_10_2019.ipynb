{
  "nbformat": 4,
  "nbformat_minor": 0,
  "metadata": {
    "colab": {
      "name": "ABCOptim_plus_Golden_jun_10_2019.ipynb",
      "version": "0.3.2",
      "provenance": [],
      "collapsed_sections": [],
      "include_colab_link": true
    },
    "kernelspec": {
      "display_name": "Python 3",
      "language": "python",
      "name": "python3"
    }
  },
  "cells": [
    {
      "cell_type": "markdown",
      "metadata": {
        "id": "view-in-github",
        "colab_type": "text"
      },
      "source": [
        "<a href=\"https://colab.research.google.com/github/ucfilho/Codigos_Teste/blob/master/ABCOptim_plus_Golden_jun_10_2019.ipynb\" target=\"_parent\"><img src=\"https://colab.research.google.com/assets/colab-badge.svg\" alt=\"Open In Colab\"/></a>"
      ]
    },
    {
      "cell_type": "code",
      "metadata": {
        "id": "vfr-WJeoITG0",
        "colab_type": "code",
        "colab": {}
      },
      "source": [
        "import numpy as np\n",
        "from random import randint"
      ],
      "execution_count": 0,
      "outputs": []
    },
    {
      "cell_type": "code",
      "metadata": {
        "id": "XnZITlaYITG_",
        "colab_type": "code",
        "colab": {}
      },
      "source": [
        "'''Rosembrock Function'''\n",
        "def Fun(x):\n",
        "    fun=0\n",
        "    a=1.0\n",
        "    b=100.0\n",
        "    fun = (a-x[0])**2 + b*(x[1]-x[0]**2)**2\n",
        "    return fun"
      ],
      "execution_count": 0,
      "outputs": []
    },
    {
      "cell_type": "code",
      "metadata": {
        "id": "NGpJGJlFITHE",
        "colab_type": "code",
        "colab": {}
      },
      "source": [
        "''' \n",
        "FOBJ gera vetorialmente os valores com a funcao objetivo escalar\n",
        "em outras palavras gera para populacao o valor da funcao \n",
        "a ser otimizada\n",
        "'''\n",
        "def FOBJ(X):\n",
        "    rows = X.shape[0]\n",
        "    fobj=np.zeros(rows)\n",
        "    for i in range(rows):\n",
        "        fobj[i]=Fun(X[i,])\n",
        "    return fobj"
      ],
      "execution_count": 0,
      "outputs": []
    },
    {
      "cell_type": "code",
      "metadata": {
        "id": "ASnJC2jQITHJ",
        "colab_type": "code",
        "colab": {}
      },
      "source": [
        "'''Enxame retorna a populacao aleatoria com todos valores entre MIN e MAX'''\n",
        "def Enxame(PAR,NPAR,MAX,MIN):\n",
        "    x=np.zeros((NPAR, len(MAX)))\n",
        "    for j in range(len(MAX)):\n",
        "        for i in range(NPAR):\n",
        "            x[i,j]=MIN[j]+(MAX[j]-MIN[j])*np.random.random()\n",
        "    return x"
      ],
      "execution_count": 0,
      "outputs": []
    },
    {
      "cell_type": "code",
      "metadata": {
        "id": "De1_VBasITHP",
        "colab_type": "code",
        "colab": {}
      },
      "source": [
        "''' \n",
        "Fitness gera vetorialmente os valores com a funcao fitness\n",
        "equivale a quantidade de nectar da fonte\n",
        "'''\n",
        "def FIT(X):\n",
        "    rows = X.shape[0]\n",
        "    fit=np.zeros(rows)\n",
        "    fit=np.copy(FOBJ(X))\n",
        "    for i in range(rows):\n",
        "        if(fit[i]>=0):\n",
        "            fit[i]=1/(fit[i]+1)\n",
        "        else:\n",
        "            fit[i]=1+abs(fit[i])\n",
        "    return fit"
      ],
      "execution_count": 0,
      "outputs": []
    },
    {
      "cell_type": "code",
      "metadata": {
        "id": "__wpzpgoITHW",
        "colab_type": "code",
        "colab": {}
      },
      "source": [
        "'''\n",
        "probablilidade usada para roleta q atualizacao das onlookers \n",
        "semelhante ao genetico\n",
        "'''\n",
        "\n",
        "def PROB(x):\n",
        "    rows=x.shape[0]\n",
        "    fit=np.zeros(rows)\n",
        "    prob=np.zeros(rows)\n",
        "    fit=FIT(x)\n",
        "    fit_ref=max(fit)\n",
        "    \n",
        "    for i in range(rows):\n",
        "        prob[i] = 0.9*fit[i]/fit_ref+0.1\n",
        "\n",
        "    return prob"
      ],
      "execution_count": 0,
      "outputs": []
    },
    {
      "cell_type": "code",
      "metadata": {
        "id": "LilZnbFDITHb",
        "colab_type": "code",
        "colab": {}
      },
      "source": [
        "'''\n",
        "Obtem a melhor escolha greedy search\n",
        "'''\n",
        "def GetBest(x,xbest):\n",
        "    ycal=FOBJ(x)\n",
        "    best=np.argmin(ycal)\n",
        "    yref=Fun(xbest)\n",
        "    if(yref<ycal[best]):\n",
        "        GBEST=xbest\n",
        "    else:\n",
        "        GBEST=x[best,]\n",
        "    return GBEST\n",
        "    "
      ],
      "execution_count": 0,
      "outputs": []
    },
    {
      "cell_type": "code",
      "metadata": {
        "id": "LfCjSy3qITHg",
        "colab_type": "code",
        "colab": {}
      },
      "source": [
        "'''\n",
        "employed bee phase\n",
        "'''\n",
        "def EmployedBee(xo,x,MAX,MIN,trial) :\n",
        "    NPAR = xo.shape[0]\n",
        "    PAR= xo.shape[1]\n",
        "    V=np.zeros((NPAR, len(MAX)))\n",
        "\n",
        "    for j in range(PAR):\n",
        "        for i in range(NPAR):\n",
        "            fi=np.random.uniform(low=-1.0, high=1.0, size=None)\n",
        "            rd=randint(0, (NPAR-1))\n",
        "            V[i,j]=xo[i,j]+(xo[i,j] -x[rd,j])*fi # candidata a solucao\n",
        "            if (V[i,j]>MAX[j]):\n",
        "              V[i,j]=np.copy(MAX[j]) # restringe a busca para o intervalo\n",
        "            if (V[i,j]<MIN[j]):\n",
        "              V[i,j]=np.copy(MIN[j]) # restringe a busca para o intervalo\n",
        "              \n",
        "    YCAL=FOBJ(xo)\n",
        "    YV=FOBJ(V)\n",
        "    for i in range(NPAR):\n",
        "        if(YV[i]<YCAL[i]):\n",
        "          trial[i]=0\n",
        "          xo[i,]=np.copy(V[i,])\n",
        "        else:\n",
        "          trial[i]=trial[i]+1\n",
        "            \n",
        "\n",
        "    return xo,trial"
      ],
      "execution_count": 0,
      "outputs": []
    },
    {
      "cell_type": "code",
      "metadata": {
        "id": "1_KrhPKiITHl",
        "colab_type": "code",
        "colab": {}
      },
      "source": [
        "'''\n",
        "onlooker bee phase\n",
        "'''\n",
        "def OnlookerBee(xo,x,trial): #OnlookerBee(xo,x_Employed)\n",
        "    rows = xo.shape[0]\n",
        "    cols = xo.shape[1]\n",
        "    prob=PROB(x)\n",
        "    prob_ref=max(prob)\n",
        "    #best=np.argmax(prob)\n",
        "    \n",
        "    for i in range(rows):\n",
        "      prob_ref=np.random.uniform(low=0, high=1.0, size=None)\n",
        "      rd=randint(0, (NPAR-1))\n",
        "      if(prob[i] > prob_ref):  \n",
        "        fi=np.random.uniform(low=-1.0, high=1.0, size=None)\n",
        "        Xmi=xo[i,]+fi*(xo[i,]-x[rd,])\n",
        "        xo[i,]=np.copy(Xmi)\n",
        "        \n",
        "    YCAL=FOBJ(xo)\n",
        "    YV=FOBJ(x)\n",
        "        \n",
        "    for i in range(rows):\n",
        "      if(YV[i]<YCAL[i]):\n",
        "        trial[i]=0\n",
        "        xo[i,]=np.copy(x[i,])\n",
        "      else:\n",
        "        trial[i]=trial[i]+1\n",
        "    return xo,trial"
      ],
      "execution_count": 0,
      "outputs": []
    },
    {
      "cell_type": "code",
      "metadata": {
        "id": "LmniEp0fITHs",
        "colab_type": "code",
        "colab": {}
      },
      "source": [
        "'''\n",
        "scout bee phase\n",
        "'''\n",
        "#def ScoutBee(trial,x,ntrail,MAX,MIN):\n",
        "def ScoutBee(x,trial,MAX,MIN):\n",
        "    PAR = x.shape[0]\n",
        "    NPAR = x.shape[1]\n",
        "    for i in range(PAR):\n",
        "      if(trial[i]>= ntrail):\n",
        "        trial[i]=0\n",
        "        for j in range(NPAR):\n",
        "          x[i,j]=MIN[j]+(MAX[j]-MIN[j])*np.random.random()\n",
        "    return x,trial"
      ],
      "execution_count": 0,
      "outputs": []
    },
    {
      "cell_type": "code",
      "metadata": {
        "id": "vJcEYWtRITHy",
        "colab_type": "code",
        "colab": {}
      },
      "source": [
        "\n",
        "'''\n",
        "Metodo que alterna e coordena o uso employers,onlooker, scout bees\n",
        "e greedy search\n",
        "\n",
        "'''\n",
        "def ABCOPtim(xo,ITE,PAR,ntrail,NPAR,MAX,MIN):\n",
        "\n",
        "    trial=np.zeros(NPAR) # inicializa contador p abandonar fonte de alimento\n",
        "    xbest=Enxame(PAR,1,MAX,MIN)[0,] #inicializa xbest\n",
        "    #xo=Enxame(PAR,NPAR,MAX,MIN) # inicializa employed bee\n",
        "    xbest=GetBest(xo,xbest)\n",
        "    \n",
        "    for i in range(ITE):\n",
        "      x=Enxame(PAR,NPAR,MAX,MIN) # comparativo para employed bee\n",
        "      xo,trial=EmployedBee(xo,x,MAX,MIN,trial)\n",
        "      xbest=GetBest(xo,xbest)\n",
        "      x=Enxame(PAR,NPAR,MAX,MIN)  # comparativo para OnlookerBee\n",
        "      xo,trial=OnlookerBee(xo,x,trial)\n",
        "      xbest=GetBest(xo,xbest)\n",
        "      x=Enxame(PAR,NPAR,MAX,MIN) # comparativo para ScoutBee\n",
        "      xo,trial=ScoutBee(x,trial,MAX,MIN) #  ScoutBee ( a rigor so esta linha basta)\n",
        "      xbest=GetBest(xo,xbest)\n",
        "      x=np.copy(xo)\n",
        "      \n",
        "    xbest=GetBest(xo,xbest)\n",
        "    x=np.copy(xo)\n",
        "    \n",
        "    return xbest, x,trial  "
      ],
      "execution_count": 0,
      "outputs": []
    },
    {
      "cell_type": "code",
      "metadata": {
        "id": "1B78uRWhUDHE",
        "colab_type": "code",
        "colab": {}
      },
      "source": [
        "def GoldenSearch(x,ITE_GOLDEN,MIN,MAX):\n",
        "  \n",
        "  \n",
        "  Num=len(x)\n",
        "  #print(Num)\n",
        "  #print(x)\n",
        "  phi = (1.0 + np.sqrt(5.0))/2.0\n",
        "  xa=np.copy(x)\n",
        "  xb=np.copy(x)\n",
        "  xr=np.zeros(Num)\n",
        "  xl=np.zeros(Num)\n",
        "\n",
        "  \n",
        "  for i in range(Num):\n",
        "    #delta=(MAX[i]-MIN[i])/10\n",
        "    delta=x[i]*1.0\n",
        "    a=delta/phi\n",
        "    b=delta-a\n",
        "    xl[i]=x[i]-b\n",
        "    xr[i]=x[i]+a\n",
        "    \n",
        "    # AVALIANDO SE SAIU FORA DO INTERVALO E CORRIGINDO\n",
        "    if(xr[i]>MAX[i]):\n",
        "      xr[i]=np.copy(MAX[i])\n",
        "    if(xl[i]<MIN[i]):\n",
        "      xl[i]=np.copy(MIN[i])\n",
        "\n",
        "\n",
        "  for k in range(ITE_GOLDEN):\n",
        "    for i in range(Num):\n",
        "      d = (phi - 1)*(xr[i] - xl[i])\n",
        "      a = xr[i] - d\n",
        "      b = xl[i] + d\n",
        "      xa[i]=np.copy(a)\n",
        "      xb[i]=np.copy(b)\n",
        "      if(Fun(xb) >= Fun(xa)):\n",
        "        x[i] = a\n",
        "        xr[i] = b\n",
        "      else:\n",
        "        x[i]= b\n",
        "        xl[i] = a\n",
        "      #x[i] = (xr[i]+xl[i])/2\n",
        "\n",
        "  return x\n"
      ],
      "execution_count": 0,
      "outputs": []
    },
    {
      "cell_type": "code",
      "metadata": {
        "id": "P34n3mljITH2",
        "colab_type": "code",
        "outputId": "22a88964-abef-4c4b-f891-5ca174cef2c9",
        "colab": {
          "base_uri": "https://localhost:8080/",
          "height": 145
        }
      },
      "source": [
        "NPAR=50 #PARTICULAS (fontes de comida)\n",
        "ITE=200 #ITERACOES\n",
        "ITE_GOLDEN=50 # quantas vezes vai aplicar GoldenSearch\n",
        "Num=int(ITE/ITE_GOLDEN) # para executar em blocos bee\n",
        "#xo=Enxame(PAR,NPAR,MAX,MIN) # inicializa employed bee\n",
        "PAR=2 #NUM DE PARAMETROS A SER OTIMIZADOS\n",
        "MAX=[2,2] # MAXIMO DE CADA PARAMETRO\n",
        "MIN=[-2,-2] # MINIMO DE CADA PARAMETRO\n",
        "ntrail=25 #numero de buscas ate abandonar uma fonte de alimento\n",
        "xo=Enxame(PAR,ITE_GOLDEN,MAX,MIN) # inicializa employed bee\n",
        "\n",
        "for i in range(Num):\n",
        "    xbest, x,trial =ABCOPtim(xo,ITE,PAR,ntrail,NPAR,MAX,MIN)\n",
        "    xo=np.copy(x)\n",
        "    xref=np.copy(xbest)\n",
        "    #print(\"vetor\",xref)\n",
        "    xnew=GoldenSearch(xref,ITE_GOLDEN,MIN,MAX)\n",
        "    #print(\"vetor\",xnew)\n",
        "    \n",
        "print(\"Bee\",xbest,\"funcao\", Fun(xbest),\"\\n\")\n",
        "print(\"Bee plus Golden\",xnew,\"funcao\", Fun(xnew),\"\\n\")\n",
        "\n",
        "print(trial)\n",
        "\n",
        "    "
      ],
      "execution_count": 13,
      "outputs": [
        {
          "output_type": "stream",
          "text": [
            "Bee [1.02169611 1.04064225] funcao 0.0015079993815642766 \n",
            "\n",
            "Bee plus Golden [1.01852311 1.03218119] funcao 0.0030555680260379242 \n",
            "\n",
            "[ 1.  1.  1.  0.  1.  0.  0.  0.  0.  1.  2.  0.  3.  1.  0.  1.  0.  0.\n",
            "  2.  0.  2.  0.  2.  2.  2.  5.  5.  3.  1.  0.  0.  1.  2.  1.  0.  3.\n",
            "  2.  1.  1.  1.  0.  0.  1.  1.  0.  0.  0.  0.  2. 10.]\n"
          ],
          "name": "stdout"
        }
      ]
    }
  ]
}