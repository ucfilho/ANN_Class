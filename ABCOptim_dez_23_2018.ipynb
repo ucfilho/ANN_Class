{
 "cells": [
  {
   "cell_type": "code",
   "execution_count": 1,
   "metadata": {},
   "outputs": [],
   "source": [
    "import numpy as np\n",
    "from random import randint"
   ]
  },
  {
   "cell_type": "code",
   "execution_count": 2,
   "metadata": {},
   "outputs": [],
   "source": [
    "'''Rosembrock Function'''\n",
    "def Fun(x):\n",
    "    fun=0\n",
    "    a=1.0\n",
    "    b=100.0\n",
    "    fun = (a-x[0])**2 + b*(x[1]-x[0]**2)**2\n",
    "    return fun"
   ]
  },
  {
   "cell_type": "code",
   "execution_count": 3,
   "metadata": {},
   "outputs": [],
   "source": [
    "''' \n",
    "FOBJ gera vetorialmente os valores com a funcao objetivo escalar\n",
    "em outras palavras gera para populacao o valor da funcao \n",
    "a ser otimizada\n",
    "'''\n",
    "def FOBJ(X):\n",
    "    rows = X.shape[0]\n",
    "    fobj=np.zeros(rows)\n",
    "    for i in range(rows):\n",
    "        fobj[i]=Fun(X[i,])\n",
    "    return fobj"
   ]
  },
  {
   "cell_type": "code",
   "execution_count": 4,
   "metadata": {},
   "outputs": [],
   "source": [
    "'''Enxame retorna a populacao aleatoria com todos valores entre MIN e MAX'''\n",
    "def Enxame(PAR,NPAR,MAX,MIN):\n",
    "    x=np.zeros((NPAR, len(MAX)))\n",
    "    for j in range(len(MAX)):\n",
    "        for i in range(NPAR):\n",
    "            x[i,j]=MIN[j]+(MAX[j]-MIN[j])*np.random.random()\n",
    "    return x"
   ]
  },
  {
   "cell_type": "code",
   "execution_count": 5,
   "metadata": {},
   "outputs": [],
   "source": [
    "''' \n",
    "Fitness gera vetorialmente os valores com a funcao fitness\n",
    "equivale a quantidade de nectar da fonte\n",
    "'''\n",
    "def FIT(X):\n",
    "    rows = X.shape[0]\n",
    "    fit=np.zeros(rows)\n",
    "    fit=np.copy(FOBJ(X))\n",
    "    for i in range(rows):\n",
    "        if(fit[i]>=0):\n",
    "            fit[i]=1/(fit[i]+1)\n",
    "        else:\n",
    "            fit[i]=1+abs(fit[i])\n",
    "    return fit"
   ]
  },
  {
   "cell_type": "code",
   "execution_count": 6,
   "metadata": {},
   "outputs": [],
   "source": [
    "'''\n",
    "probablilidade usada para roleta q atualizacao das onlookers \n",
    "semelhante ao genetico\n",
    "'''\n",
    "\n",
    "def PROB(x):\n",
    "    rows=x.shape[0]\n",
    "    fit=np.zeros(rows)\n",
    "    prob=np.zeros(rows)\n",
    "    fit=FIT(x)\n",
    "    soma=np.sum(fit)\n",
    "    \n",
    "    for i in range(rows):\n",
    "        prob[i] = fit[i]/soma\n",
    "\n",
    "    return prob"
   ]
  },
  {
   "cell_type": "code",
   "execution_count": 7,
   "metadata": {},
   "outputs": [],
   "source": [
    "'''\n",
    "Obtem a melhor escolha greedy search\n",
    "'''\n",
    "def GetBest(x,xbest):\n",
    "    ycal=FOBJ(x)\n",
    "    best=np.argmin(ycal)\n",
    "    yref=Fun(xbest)\n",
    "    if(yref<ycal[best]):\n",
    "        GBEST=xbest\n",
    "    else:\n",
    "        GBEST=x[best]\n",
    "    return GBEST\n",
    "    "
   ]
  },
  {
   "cell_type": "code",
   "execution_count": 8,
   "metadata": {},
   "outputs": [],
   "source": [
    "'''\n",
    "employed bee phase\n",
    "'''\n",
    "def EmployedBee(x,PAR,NPAR) :\n",
    "    #x= Enxame(PAR,NPAR,MAX,MIN)\n",
    "    V=np.zeros((NPAR, len(MAX)))\n",
    "    xold=np.zeros((NPAR, len(MAX)))\n",
    "    for j in range(PAR):\n",
    "        for i in range(NPAR):\n",
    "            r=np.random.randint(NPAR, size=PAR)\n",
    "            k=r[j]\n",
    "            if(k==i):\n",
    "                if(k<(NPAR-1)):\n",
    "                    k=k+1\n",
    "                else:\n",
    "                    k=k-1\n",
    "            V[i,j]=np.copy(x[k,j])\n",
    "    YCAL=FOBJ(x)\n",
    "    YV=FOBJ(V)\n",
    "    for i in range(NPAR):\n",
    "        if(YV[i]<YCAL[i]):\n",
    "            x[i,]=np.copy(V[i,])\n",
    "\n",
    "    return x"
   ]
  },
  {
   "cell_type": "code",
   "execution_count": 9,
   "metadata": {},
   "outputs": [],
   "source": [
    "'''\n",
    "onlooker bee phase\n",
    "'''\n",
    "def OnlookerBee(trial,xo,x):\n",
    "    rows = x.shape[0]\n",
    "    cols = x.shape[1]\n",
    "    prob=np.zeros(rows)\n",
    "    V=np.copy(xo)\n",
    "    prob=PROB(x)\n",
    "    ycal=FOBJ(x)\n",
    "    best=np.argmin(ycal)\n",
    "    \n",
    "    for i in range(rows):\n",
    "        \n",
    "        rand=np.random.random() # este aleatorio vai ser utilizado no metodo da roleta\n",
    "        prob[i]=0.9*prob[i]+0.1 # esta melhora no prob nao esta no original\n",
    "        \n",
    "        if(rand<prob[i]): # metodo da roleta so faz a mudanca se o sorteio for favoravel\n",
    "            for j in range(cols):\n",
    "                r=np.random.randint(NPAR, size=PAR)\n",
    "                k=r[j]\n",
    "                if(k==i):\n",
    "                    if(k<(NPAR-1)):\n",
    "                        k=k+1\n",
    "                    else:\n",
    "                        k=k-1\n",
    "                fi=np.random.uniform(low=-1.0, high=1.0, size=None)\n",
    "                rd=randint(0, (rows-1))\n",
    "                V[i,j]=xo[i,j]+(x[rd,j] -x[k,j])*fi # precisa mudar esta eq: variantes metodo\n",
    "                if(Fun(V[i,])<Fun(x[i,])):\n",
    "                    xo[i,]=np.copy(V[i,])\n",
    "                    x[i,]=np.copy(V[i,])\n",
    "                    trial[i]=0\n",
    "                else:\n",
    "                    trial[i]=trial[i]+1\n",
    "    #return trial,xo,x        \n",
    "    return trial,xo,x"
   ]
  },
  {
   "cell_type": "code",
   "execution_count": 10,
   "metadata": {},
   "outputs": [],
   "source": [
    "'''\n",
    "scout bee phase\n",
    "'''\n",
    "def ScoutBee(trial,x,ntrail,MAX,MIN):\n",
    "    rows = x.shape[0]\n",
    "    cols = x.shape[1]\n",
    "    for i in range(rows):\n",
    "        if(trial[i]>=ntrail):\n",
    "            trial[i]=0\n",
    "            for j in range(cols):\n",
    "                x[i,j]=MIN[j]+(MAX[j]-MIN[j])*np.random.random()\n",
    "    return x,trial"
   ]
  },
  {
   "cell_type": "code",
   "execution_count": 11,
   "metadata": {},
   "outputs": [],
   "source": [
    "\n",
    "'''\n",
    "Metodo que alterna e coordena o uso employers,onlooker, scout bees\n",
    "e greedy search\n",
    "\n",
    "'''\n",
    "def ABCOPtim(ITE,PAR,ntrail,NPAR,MAX,MIN):\n",
    "    x=Enxame(PAR,NPAR,MAX,MIN) # inicializa employed bee\n",
    "    xo=Enxame(PAR,NPAR,MAX,MIN) # inicializa onlooker bee\n",
    "    trial=np.zeros(NPAR) # inicializa contador p abandonar fonte de alimento\n",
    "    xbest=np.copy(x[0,]) #inicializa xbest\n",
    "    xbest=GetBest(x,xbest)\n",
    "    xbest=GetBest(xo,xbest)\n",
    "    for i in range(ITE):\n",
    "        x=EmployedBee(x,PAR,NPAR)\n",
    "        xbest=GetBest(x,xbest)\n",
    "        trial,xo,x=OnlookerBee(trial,xo,x)\n",
    "        xbest=GetBest(xo,xbest)\n",
    "        x,trial=ScoutBee(trial,x,ntrail,MAX,MIN)\n",
    "        xbest=GetBest(x,xbest)\n",
    "    return xbest  "
   ]
  },
  {
   "cell_type": "code",
   "execution_count": 12,
   "metadata": {},
   "outputs": [
    {
     "name": "stdout",
     "output_type": "stream",
     "text": [
      "[0.66435352 0.43989364]\n",
      "0.11287522603575754\n"
     ]
    }
   ],
   "source": [
    "NPAR=50 #PARTICULAS\n",
    "ITE=300 #ITERACOES\n",
    "PAR=2 #NUM DE PARAMETROS A SER OTIMIZADOS\n",
    "MAX=[2,2] # MAXIMO DE CADA PARAMETRO\n",
    "MIN=[-2,-2] # MINIMO DE CADA PARAMETRO\n",
    "ntrail=50 #numero de buscas ate abandonar uma fonte de alimento\n",
    "\n",
    "xbest=ABCOPtim(ITE,PAR,ntrail,NPAR,MAX,MIN)\n",
    "print(xbest)\n",
    "print(Fun(xbest))"
   ]
  }
 ],
 "metadata": {
  "kernelspec": {
   "display_name": "Python 3",
   "language": "python",
   "name": "python3"
  },
  "language_info": {
   "codemirror_mode": {
    "name": "ipython",
    "version": 3
   },
   "file_extension": ".py",
   "mimetype": "text/x-python",
   "name": "python",
   "nbconvert_exporter": "python",
   "pygments_lexer": "ipython3",
   "version": "3.7.1"
  }
 },
 "nbformat": 4,
 "nbformat_minor": 2
}
