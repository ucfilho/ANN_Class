{
  "nbformat": 4,
  "nbformat_minor": 0,
  "metadata": {
    "colab": {
      "name": "Untitled8.ipynb",
      "version": "0.3.2",
      "provenance": [],
      "include_colab_link": true
    },
    "kernelspec": {
      "name": "python3",
      "display_name": "Python 3"
    }
  },
  "cells": [
    {
      "cell_type": "markdown",
      "metadata": {
        "id": "view-in-github",
        "colab_type": "text"
      },
      "source": [
        "<a href=\"https://colab.research.google.com/github/ucfilho/Codigos_Teste/blob/master/PSO_teste_nov_30_2018.ipynb\" target=\"_parent\"><img src=\"https://colab.research.google.com/assets/colab-badge.svg\" alt=\"Open In Colab\"/></a>"
      ]
    },
    {
      "metadata": {
        "id": "JVK9vO5ab92y",
        "colab_type": "code",
        "colab": {}
      },
      "cell_type": "code",
      "source": [
        "git clone https://github.com/ucfilho/Codigos_Teste\n",
        "%cd ANN"
      ],
      "execution_count": 0,
      "outputs": []
    },
    {
      "metadata": {
        "id": "gkrTn085b8DH",
        "colab_type": "code",
        "colab": {}
      },
      "cell_type": "code",
      "source": [
        "\"\"\"\n",
        "Created on Fri Dec 06 2017\n",
        "@author: ucfilho\n",
        "\"\"\"\n",
        "import numpy as np\n",
        "import pandas as pd\n",
        "import FOBJ\n",
        "import ENX\n",
        "import VEL\n",
        "import PART\n",
        "import GBEST\n",
        "\n",
        "\n",
        "def PSO(W,C1,C2,NPAR,ITE,PAR,MAX,MIN):\n",
        "    # INICIALIZA O METODO-\n",
        "    X=ENX.Enxame(PAR,NPAR,MAX,MIN) # CRIA A POPULACAO\n",
        "    ycal=FOBJ.OBJ(X) # CALCULA A FUNCAO OBJETIVO PARA TODAS PARTICULAS\n",
        "    PBEST=PART.PART(X,X) # O MELHOR LOCAL DE CADA PARTICULA INICIALMENTE ALEATORIA\n",
        "    BEST=[]\n",
        "    for i in range(PAR):\n",
        "        BEST.append(1e10)\n",
        "    BEST=GBEST.BEST(X,BEST)\n",
        "    VELOC=ENX.Enxame(PAR,NPAR,MAX,MIN)# VELOCIDADES INICIALMENTE ALEATORIAS\n",
        "    RESP=[]\n",
        "    for k in range(ITE):\n",
        "        yteste=FOBJ.VALOR(BEST)\n",
        "        VELOC, X=VEL.VE(X,VELOC,BEST,PBEST,W,C1,C2)\n",
        "        BEST=GBEST.BEST(X,BEST)\n",
        "        PBEST=PART.PART(X,PBEST)\n",
        "        yteste=FOBJ.VALOR(BEST)\n",
        "        RESP.append(yteste)\n",
        "    return RESP"
      ],
      "execution_count": 0,
      "outputs": []
    }
  ]
}