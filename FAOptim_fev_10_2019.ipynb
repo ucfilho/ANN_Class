{
  "nbformat": 4,
  "nbformat_minor": 0,
  "metadata": {
    "colab": {
      "name": "FAOptim_fev_09_2019.ipynb",
      "version": "0.3.2",
      "provenance": [],
      "collapsed_sections": [],
      "include_colab_link": true
    },
    "kernelspec": {
      "display_name": "Python 3",
      "language": "python",
      "name": "python3"
    }
  },
  "cells": [
    {
      "cell_type": "markdown",
      "metadata": {
        "id": "view-in-github",
        "colab_type": "text"
      },
      "source": [
        "<a href=\"https://colab.research.google.com/github/ucfilho/Codigos_Teste/blob/master/FAOptim_fev_10_2019.ipynb\" target=\"_parent\"><img src=\"https://colab.research.google.com/assets/colab-badge.svg\" alt=\"Open In Colab\"/></a>"
      ]
    },
    {
      "metadata": {
        "id": "vfr-WJeoITG0",
        "colab_type": "code",
        "colab": {}
      },
      "cell_type": "code",
      "source": [
        "import numpy as np\n",
        "from random import randint"
      ],
      "execution_count": 0,
      "outputs": []
    },
    {
      "metadata": {
        "id": "XnZITlaYITG_",
        "colab_type": "code",
        "colab": {}
      },
      "cell_type": "code",
      "source": [
        "'''Rosembrock Function'''\n",
        "def Fun(x):\n",
        "    fun=0\n",
        "    a=1.0\n",
        "    b=100.0\n",
        "    fun = (a-x[0])**2 + b*(x[1]-x[0]**2)**2\n",
        "    return fun"
      ],
      "execution_count": 0,
      "outputs": []
    },
    {
      "metadata": {
        "id": "NGpJGJlFITHE",
        "colab_type": "code",
        "colab": {}
      },
      "cell_type": "code",
      "source": [
        "''' \n",
        "FOBJ gera vetorialmente os valores com a funcao objetivo escalar\n",
        "em outras palavras gera para populacao o valor da funcao \n",
        "a ser otimizada\n",
        "'''\n",
        "def FOBJ(X):\n",
        "    rows = X.shape[0]\n",
        "    fobj=np.zeros(rows)\n",
        "    for i in range(rows):\n",
        "        fobj[i]=Fun(X[i,])\n",
        "    return fobj"
      ],
      "execution_count": 0,
      "outputs": []
    },
    {
      "metadata": {
        "id": "ASnJC2jQITHJ",
        "colab_type": "code",
        "colab": {}
      },
      "cell_type": "code",
      "source": [
        "'''Enxame retorna a populacao aleatoria com todos valores entre MIN e MAX'''\n",
        "def Enxame(PAR,NPAR,MAX,MIN):\n",
        "    x=np.zeros((NPAR, len(MAX)))\n",
        "    for j in range(len(MAX)):\n",
        "        for i in range(NPAR):\n",
        "            x[i,j]=MIN[j]+(MAX[j]-MIN[j])*np.random.random()\n",
        "    return x"
      ],
      "execution_count": 0,
      "outputs": []
    },
    {
      "metadata": {
        "id": "LilZnbFDITHb",
        "colab_type": "code",
        "colab": {}
      },
      "cell_type": "code",
      "source": [
        "'''\n",
        "Obtem a melhor escolha\n",
        "'''\n",
        "def GetBest(x,xbest):\n",
        "    ycal=FOBJ(x)\n",
        "    #ycal=Fun(x)\n",
        "    best=np.argmin(ycal)\n",
        "    yref=Fun(xbest)\n",
        "    if(yref<ycal[best]):\n",
        "        GBEST=xbest\n",
        "    else:\n",
        "        GBEST=x[best,]\n",
        "    return GBEST\n",
        "    "
      ],
      "execution_count": 0,
      "outputs": []
    },
    {
      "metadata": {
        "id": "2H1jLqxf2zl6",
        "colab_type": "code",
        "colab": {
          "base_uri": "https://localhost:8080/",
          "height": 199
        },
        "outputId": "75d7eb7f-9f58-4ad4-8dea-f84b8647701b"
      },
      "cell_type": "code",
      "source": [
        "cols=2\n",
        "rows=10\n",
        "ve=[3.1415,2.7182]#np.array()\n",
        "A=np.repeat(ve, rows).reshape((cols,rows)).T\n",
        "print(A)"
      ],
      "execution_count": 20,
      "outputs": [
        {
          "output_type": "stream",
          "text": [
            "[[3.1415 2.7182]\n",
            " [3.1415 2.7182]\n",
            " [3.1415 2.7182]\n",
            " [3.1415 2.7182]\n",
            " [3.1415 2.7182]\n",
            " [3.1415 2.7182]\n",
            " [3.1415 2.7182]\n",
            " [3.1415 2.7182]\n",
            " [3.1415 2.7182]\n",
            " [3.1415 2.7182]]\n"
          ],
          "name": "stdout"
        }
      ]
    },
    {
      "metadata": {
        "id": "4SGRgQjDmtmk",
        "colab_type": "code",
        "colab": {}
      },
      "cell_type": "code",
      "source": [
        "'''\n",
        "Calcula a norma entre os vetores (distancia entre os fireflies)\n",
        "'''\n",
        "\n",
        "def Rij(xi,xj):\n",
        "  cols=x1.shape[1]\n",
        "  rows=x1.shape[0]\n",
        "  Norma=np.zeros(rows) # inicializa o vertor norma\n",
        "  x=xi-xj\n",
        "  for i in range(rows):\n",
        "    vector=x[i,]\n",
        "    for j in range(cols):\n",
        "      rij=np.sqrt(sum(j**2 for j in vector))\n",
        "    Norma[i]=rij\n",
        "  return Norma\n",
        "    "
      ],
      "execution_count": 0,
      "outputs": []
    },
    {
      "metadata": {
        "id": "oFWFH-XRl9wW",
        "colab_type": "code",
        "colab": {
          "base_uri": "https://localhost:8080/",
          "height": 55
        },
        "outputId": "47fd54bc-b910-4df3-ce15-e46e1e8b5979"
      },
      "cell_type": "code",
      "source": [
        "# atualiza a populacao de firefly\n",
        "def New_X(X,index,MAX,MIN,Beta,Gama):\n",
        "  i=index\n",
        "  rows=X.shape[0]\n",
        "  cols=X.shape[1]\n",
        "  xnew=np.zeros((rows,cols))\n",
        "  vetor=X[i, ] # np.array()\n",
        "  A=np.repeat(vetor, rows).reshape((cols,rows)).T\n",
        "  Norma=Rij(X,A)\n",
        "  Fobj=FOBJ(X)\n",
        "  Epson=Enxame(cols,rows,MAX,MIN) # posicao aleatoria q entra na correcao\n",
        "        #Enxame(PAR,NPAR,MAX,MIN):\n",
        "  xi=X[i,]\n",
        "  Fobj_i=Fobj(i)\n",
        "  for j in range(rows):\n",
        "    rij=Norma[j]\n",
        "    xj=X[j,]\n",
        "    novo=0\n",
        "    if(Fobj(i)> Fobj(j)):\n",
        "      Alfa=np.random.random()\n",
        "      xi=xi+Beta*np.exp(-Gama*rij**2)*(xj-xi)+Alfa*Epson[j,]\n",
        "      X[i,]=xi\n",
        "      Fobj_i=Fobj(j))\n",
        "    else\n",
        "  return xnew"
      ],
      "execution_count": 8,
      "outputs": [
        {
          "output_type": "execute_result",
          "data": {
            "text/plain": [
              "'# atualiza a populacao de firefly\\ndef New_X(X,X0,MAX,MIN,Beta,Gama):\\n  xnew=[]\\n  rij=Rij(X,X0)\\n  PAR=len(X)\\n  Epson=Enxame(PAR,1,MAX,MIN)[0,] # posicao aleatoria q entra na correcao\\n  Alfa=np.random.random()\\n  xnew=X+Beta*np.exp(-Gama*rij**2)*(X0-X)+Alfa*Epson\\n  return xnew'"
            ]
          },
          "metadata": {
            "tags": []
          },
          "execution_count": 8
        }
      ]
    },
    {
      "metadata": {
        "id": "eXgYajRNytJ_",
        "colab_type": "code",
        "outputId": "8176b504-2650-4156-bd63-f47bc2802775",
        "colab": {
          "base_uri": "https://localhost:8080/",
          "height": 55
        }
      },
      "cell_type": "code",
      "source": [
        "'''import numpy as np\n",
        "PAR=2 #NUM DE PARAMETROS A SER OTIMIZADOS\n",
        "MAX=[2,2] # MAXIMO DE CADA PARAMETRO\n",
        "MIN=[-2,-2] # MINIMO DE CADA PARAMETRO\n",
        "Beta=2.5\n",
        "Gama=1.5\n",
        "x1 = np.array([1,2])\n",
        "x2= np.array([2,3])\n",
        "rij=Rij(x1,x2)\n",
        "print(rij)\n",
        "x=New_X(x1,x2,MAX,MIN,Beta,Gama)\n",
        "print(x)\n",
        "xbest=GetBest(x1,x2)\n",
        "print(xbest)'''"
      ],
      "execution_count": 9,
      "outputs": [
        {
          "output_type": "execute_result",
          "data": {
            "text/plain": [
              "'import numpy as np\\nPAR=2 #NUM DE PARAMETROS A SER OTIMIZADOS\\nMAX=[2,2] # MAXIMO DE CADA PARAMETRO\\nMIN=[-2,-2] # MINIMO DE CADA PARAMETRO\\nBeta=2.5\\nGama=1.5\\nx1 = np.array([1,2])\\nx2= np.array([2,3])\\nrij=Rij(x1,x2)\\nprint(rij)\\nx=New_X(x1,x2,MAX,MIN,Beta,Gama)\\nprint(x)\\nxbest=GetBest(x1,x2)\\nprint(xbest)'"
            ]
          },
          "metadata": {
            "tags": []
          },
          "execution_count": 9
        }
      ]
    },
    {
      "metadata": {
        "id": "vJcEYWtRITHy",
        "colab_type": "code",
        "colab": {}
      },
      "cell_type": "code",
      "source": [
        "\n",
        "'''\n",
        "Metodo firefly\n",
        "\n",
        "'''\n",
        "def FAOPtim(ITE,PAR,Beta,Gama,NPAR,MAX,MIN):\n",
        "\n",
        "    xbest=Enxame(PAR,1,MAX,MIN)[0,] #inicializa xbest\n",
        "    xo=Enxame(PAR,NPAR,MAX,MIN) # inicializa os fireflies...\n",
        "    vbest_old=Fun(xbest)\n",
        "    vbest_new=Fun(xbest)\n",
        "    x=[] # populacao do enxame q vai ser atualizada\n",
        "    \n",
        "    for k in range(ITE):\n",
        "      ycal=FOBJ(xo)\n",
        "      for i in range(PAR):\n",
        "        for j in range(PAR):\n",
        "          if(ycal[i]>ycal[j]):\n",
        "            x=New_X(x,xo,MAX,MIN,Beta,Gama)\n",
        "          else:\n",
        "            x=xo[j,]\n",
        "            \n",
        "          xbest=GetBest(x,xo)\n",
        "          return xbest  "
      ],
      "execution_count": 0,
      "outputs": []
    },
    {
      "metadata": {
        "id": "P34n3mljITH2",
        "colab_type": "code",
        "outputId": "42ef5812-543e-420a-ad45-a3e4de77784f",
        "colab": {
          "base_uri": "https://localhost:8080/",
          "height": 510
        }
      },
      "cell_type": "code",
      "source": [
        "NPAR=10 #PARTICULAS\n",
        "ITE=300 #ITERACOES\n",
        "PAR=2 #NUM DE PARAMETROS A SER OTIMIZADOS\n",
        "MAX=[2,2] # MAXIMO DE CADA PARAMETRO\n",
        "MIN=[-2,-2] # MINIMO DE CADA PARAMETRO\n",
        "Beta=2.5\n",
        "Gama=1.5\n",
        "x1=Enxame(PAR,NPAR,MAX,MIN)\n",
        "x2=Enxame(PAR,NPAR,MAX,MIN)\n",
        "print(x2)\n",
        "print(x1)\n",
        "Norma=Rij(x1,x2)\n",
        "print(Norma)\n",
        "fobj=FOBJ(x1)\n",
        "print(fobj)\n",
        "best=GetBest(x1,x1[0,])\n",
        "print(best)\n",
        "'''\n",
        "for i in range(6):\n",
        "    print(\"resolucao\",i+1,\" \")\n",
        "    xbest=FAOPtim(ITE,PAR,Beta,Gama,NPAR,MAX,MIN)\n",
        "    print(\"vetor\",xbest,\"funcao\", Fun(xbest),\"\\n\")'''"
      ],
      "execution_count": 11,
      "outputs": [
        {
          "output_type": "stream",
          "text": [
            "[[-1.84850794  1.16052789]\n",
            " [-0.04136892 -0.76603372]\n",
            " [-1.0851236  -1.25036158]\n",
            " [ 0.85847748  1.45491615]\n",
            " [-1.790264   -1.43730038]\n",
            " [ 0.56556192 -1.80153002]\n",
            " [-1.88134241 -0.35863381]\n",
            " [ 0.58385712 -1.19766154]\n",
            " [ 1.95803173  1.79884749]\n",
            " [-0.61421351  0.22274584]]\n",
            "[[ 1.95828838  0.82895237]\n",
            " [ 1.01027299  0.85630535]\n",
            " [-0.24901533 -1.82481282]\n",
            " [-0.92578261 -1.32025562]\n",
            " [-0.88953954  1.90693234]\n",
            " [-1.0436846  -1.013277  ]\n",
            " [ 1.30478845  0.70088222]\n",
            " [-0.16142289  0.51176946]\n",
            " [ 0.3972564   1.46763353]\n",
            " [ 1.54631292 -0.17306211]]\n",
            "[3.8212093  1.93337394 1.0144315  3.29926696 3.4634083  1.79193113\n",
            " 3.35767838 1.86483153 1.59553199 2.19648319]\n",
            "[904.48644276   2.70107162 357.56956148 477.78482534 128.03824292\n",
            " 446.25020554 100.41128773  24.94052879 171.9263738  657.78280305]\n",
            "[1.01027299 0.85630535]\n"
          ],
          "name": "stdout"
        },
        {
          "output_type": "execute_result",
          "data": {
            "text/plain": [
              "'\\nfor i in range(6):\\n    print(\"resolucao\",i+1,\" \")\\n    xbest=FAOPtim(ITE,PAR,Beta,Gama,NPAR,MAX,MIN)\\n    print(\"vetor\",xbest,\"funcao\", Fun(xbest),\"\\n\")'"
            ]
          },
          "metadata": {
            "tags": []
          },
          "execution_count": 11
        }
      ]
    }
  ]
}