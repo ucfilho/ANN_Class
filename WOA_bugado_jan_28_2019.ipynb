{
  "nbformat": 4,
  "nbformat_minor": 0,
  "metadata": {
    "colab": {
      "name": "WOA_jan_28_2019.ipynb",
      "version": "0.3.2",
      "provenance": [],
      "collapsed_sections": [],
      "include_colab_link": true
    },
    "kernelspec": {
      "display_name": "Python 3",
      "language": "python",
      "name": "python3"
    }
  },
  "cells": [
    {
      "cell_type": "markdown",
      "metadata": {
        "id": "view-in-github",
        "colab_type": "text"
      },
      "source": [
        "<a href=\"https://colab.research.google.com/github/ucfilho/Codigos_Teste/blob/master/WOA_bugado_jan_28_2019.ipynb\" target=\"_parent\"><img src=\"https://colab.research.google.com/assets/colab-badge.svg\" alt=\"Open In Colab\"/></a>"
      ]
    },
    {
      "metadata": {
        "id": "vfr-WJeoITG0",
        "colab_type": "code",
        "outputId": "39958e67-d55f-4158-f410-1fb7946824c9",
        "colab": {
          "base_uri": "https://localhost:8080/",
          "height": 35
        }
      },
      "cell_type": "code",
      "source": [
        "import numpy as np\n",
        "from random import randint\n",
        "print(\"hello world, I am envolving !!!!\")\n"
      ],
      "execution_count": 1,
      "outputs": [
        {
          "output_type": "stream",
          "text": [
            "hello world, I am envolving !!!!\n"
          ],
          "name": "stdout"
        }
      ]
    },
    {
      "metadata": {
        "id": "rDWYoHzSe0oA",
        "colab_type": "text"
      },
      "cell_type": "markdown",
      "source": [
        "\n",
        "\n",
        "\n",
        "WOA - Whale Optimization Algorithm\n",
        "\n",
        "O vetor X eh otimizado com p aleatorio sendo corrigido em espiral ou nao (prob de 50%)\n",
        "\n",
        "O vetor a_k decai linearmente \n",
        "\n",
        "A matriz A_kp vai de para zero (o que gera um espiral de aproximacao)\n",
        "\n",
        "\n",
        "\n"
      ]
    },
    {
      "metadata": {
        "id": "XnZITlaYITG_",
        "colab_type": "code",
        "colab": {}
      },
      "cell_type": "code",
      "source": [
        "'''Rosembrock Function'''\n",
        "def Fun(x):\n",
        "    fun=0\n",
        "    a=1.0\n",
        "    b=100.0\n",
        "    fun = (a-x[0])**2 + b*(x[1]-x[0]**2)**2\n",
        "    return fun"
      ],
      "execution_count": 0,
      "outputs": []
    },
    {
      "metadata": {
        "id": "NGpJGJlFITHE",
        "colab_type": "code",
        "colab": {}
      },
      "cell_type": "code",
      "source": [
        "''' \n",
        "FOBJ gera vetorialmente os valores com a funcao objetivo escalar\n",
        "em outras palavras gera para populacao o valor da funcao \n",
        "a ser otimizada\n",
        "'''\n",
        "def FOBJ(X):\n",
        "    rows = X.shape[0]\n",
        "    fobj=np.zeros(rows)\n",
        "    for i in range(rows):\n",
        "        fobj[i]=Fun(X[i,])\n",
        "    return fobj"
      ],
      "execution_count": 0,
      "outputs": []
    },
    {
      "metadata": {
        "id": "ASnJC2jQITHJ",
        "colab_type": "code",
        "colab": {}
      },
      "cell_type": "code",
      "source": [
        "'''Enxame retorna a populacao aleatoria com todos valores entre MIN e MAX'''\n",
        "def Enxame(PAR,NPAR,MAX,MIN):\n",
        "    x=np.zeros((NPAR, PAR))\n",
        "    for j in range(len(MAX)):\n",
        "        for i in range(NPAR):\n",
        "            x[i,j]=MIN[j]+(MAX[j]-MIN[j])*np.random.random()\n",
        "    return x"
      ],
      "execution_count": 0,
      "outputs": []
    },
    {
      "metadata": {
        "id": "De1_VBasITHP",
        "colab_type": "code",
        "colab": {}
      },
      "cell_type": "code",
      "source": [
        "''' \n",
        "Fit ordena os vetores do que fornece MIN a MAX valor de FOBJ : \n",
        "        eh necessario para encontrar Best baleia\n",
        "'''\n",
        "def FIT(X):\n",
        "    fit=np.argsort(X)\n",
        "    return fit"
      ],
      "execution_count": 0,
      "outputs": []
    },
    {
      "metadata": {
        "id": "4XuAl75DB3WZ",
        "colab_type": "code",
        "colab": {}
      },
      "cell_type": "code",
      "source": [
        "''' \n",
        "Matriz_AC \n",
        "  retorna matriz A decrescente q vai 2 a zero\n",
        "  retorna matriz C\n",
        "  A decrescente q vai 2 a zero\n",
        "  C aleatoria q vai de \n",
        "'''\n",
        "def Matriz_AC(a,PAR,NPAR):\n",
        "  A=np.zeros((NPAR, PAR))\n",
        "  C=np.zeros((NPAR, PAR))\n",
        "  for j in range(PAR):\n",
        "    for i in range(NPAR):\n",
        "      A[i,j]=a*(2*np.random.random()-1)\n",
        "      C[i,j]=2*np.random.random()\n",
        "  return A,C"
      ],
      "execution_count": 0,
      "outputs": []
    },
    {
      "metadata": {
        "id": "CpD36qqzN8WL",
        "colab_type": "code",
        "colab": {}
      },
      "cell_type": "code",
      "source": [
        "# retorna o best X*\n",
        "def BEST(x):\n",
        "  ycal=FOBJ(x)\n",
        "  Ind=FIT(ycal) # ajusta para encontrar o indice dos os lobos alfa, beta e delta\n",
        "  Best=x[Ind[0],]\n",
        "  print(Best)\n",
        "  return Best"
      ],
      "execution_count": 0,
      "outputs": []
    },
    {
      "metadata": {
        "id": "0f5uCL18JbEK",
        "colab_type": "code",
        "colab": {}
      },
      "cell_type": "code",
      "source": [
        "# atualiza a matriz de populacoes\n",
        "def New_X(k,ITE,PAR,NPAR,MAX,MIN,Best,x):\n",
        "  Xcal=np.zeros((NPAR, PAR))\n",
        "  a=2*(k-ITE)/(1-ITE) # parametro que varia de 2 a zero linermente: gera espiral\n",
        "  A,C=Matriz_AC(a,PAR,NPAR)# matriz da espiral e matrix aletoria range dobro\n",
        "  Xrand=Enxame(PAR,NPAR,MAX,MIN) #  sera utilizado para A>=1\n",
        "  for j in range(PAR):\n",
        "    for i in range(NPAR):\n",
        "      l=np.random.random()*2 - 1 # valor entre [-1,1]\n",
        "      p=np.random.random() # valor entre [0,1]\n",
        "      if(p< 0.5):\n",
        "        if(A[i,j]<1):\n",
        "          D=abs(Best[j]*C[i,j]-x[i,j])\n",
        "          Xcal[i,j]=Best[j]-A[i,j]*D\n",
        "        else: #if(A[i,j]<1):\n",
        "          D=abs(Xrand[i,j]*C[i,j]-x[i,j])\n",
        "          Xcal[i,j]=Xrand[i,j]-A[i,j]*D\n",
        "      else: #if(p< 0.5):\n",
        "        D=abs(Best[j]-x[i,j])\n",
        "        Xcal[i,j]=D*np.exp(l*2)*np.cos(2*np.pi*l)+Best[j]\n",
        "        \n",
        "      if(Xcal[i,j]> MAX[j]):\n",
        "        Xcal[i,j]=MAX[j]\n",
        "      if(Xcal[i,j]< MIN[j]):\n",
        "        Xcal[i,j]=MIN[j]\n",
        "        \n",
        "  return Xcal\n",
        "  "
      ],
      "execution_count": 0,
      "outputs": []
    },
    {
      "metadata": {
        "id": "MFWqJ-ZWivwi",
        "colab_type": "code",
        "colab": {}
      },
      "cell_type": "code",
      "source": [
        "def WOA(ITE,PAR,NPAR,MAX,MIN): # realiza todas interacoes do WOA\n",
        "  k=1 #contador de iteracoes\n",
        "  x=Enxame(PAR,NPAR,MAX,MIN) # inicializa baleias\n",
        "  Best=BEST(x)\n",
        "  while(k<=ITE):\n",
        "    x=New_X(k,ITE,PAR,NPAR,MAX,MIN,Best,x) # atualiza baleias\n",
        "    k=k+1 # atualiza iteracoes\n",
        "    Best=BEST(x) # atualiza melhor baleia\n",
        "  \n",
        "  ycal=Fun(Best)\n",
        "  return Best,ycal\n",
        "    \n",
        "  "
      ],
      "execution_count": 0,
      "outputs": []
    },
    {
      "metadata": {
        "id": "ZlE0Of68ynkV",
        "colab_type": "code",
        "outputId": "f8b92eee-b009-46f4-ac4c-3cadfd78dd02",
        "colab": {
          "base_uri": "https://localhost:8080/",
          "height": 145
        }
      },
      "cell_type": "code",
      "source": [
        "# inicializa as variaveis, executa o metdo e imprime os resultados\n",
        "NPAR=5 #Baleias\n",
        "ITE=4 #ITERACOES\n",
        "PAR=2 #NUM DE PARAMETROS A SER OTIMIZADOS\n",
        "MAX=[2,2] # MAXIMO DE CADA PARAMETRO\n",
        "MIN=[-2,-2] # MINIMO DE CADA PARAMETRO\n",
        "\n",
        "Best,ycal=WOA(ITE,PAR,NPAR,MAX,MIN)\n",
        "print(\"Baleias=\",NPAR,\"      Iteracoes=\",ITE,\"   x=\",Best,\"       fobj=\",ycal,\"\\n\")\n"
      ],
      "execution_count": 10,
      "outputs": [
        {
          "output_type": "stream",
          "text": [
            "[-1.0963788  -1.04756447]\n",
            "[-0.97755844  2.        ]\n",
            "[-1.14200771  1.69065364]\n",
            "[-1.14200771  1.69065364]\n",
            "[-1.14200771  1.687552  ]\n",
            "Baleias= 5       Iteracoes= 4    x= [-1.14200771  1.687552  ]        fobj= 19.285483124639313 \n",
            "\n"
          ],
          "name": "stdout"
        }
      ]
    },
    {
      "metadata": {
        "id": "5rIqg90hVR0k",
        "colab_type": "code",
        "colab": {
          "base_uri": "https://localhost:8080/",
          "height": 54
        },
        "outputId": "73c118d6-4fed-4266-ba88-4b102a60a0b5"
      },
      "cell_type": "code",
      "source": [
        "print(Best[0])\n",
        "print(Best[1])"
      ],
      "execution_count": 11,
      "outputs": [
        {
          "output_type": "stream",
          "text": [
            "-1.1420077085548144\n",
            "1.6875520030274012\n"
          ],
          "name": "stdout"
        }
      ]
    }
  ]
}