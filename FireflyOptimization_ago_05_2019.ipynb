{
  "nbformat": 4,
  "nbformat_minor": 0,
  "metadata": {
    "colab": {
      "name": "FireflyOptimization_ago_05_2019.ipynb",
      "version": "0.3.2",
      "provenance": [],
      "collapsed_sections": [],
      "include_colab_link": true
    },
    "kernelspec": {
      "name": "python3",
      "display_name": "Python 3"
    }
  },
  "cells": [
    {
      "cell_type": "markdown",
      "metadata": {
        "id": "view-in-github",
        "colab_type": "text"
      },
      "source": [
        "<a href=\"https://colab.research.google.com/github/ucfilho/Codigos_Teste/blob/master/FireflyOptimization_ago_05_2019.ipynb\" target=\"_parent\"><img src=\"https://colab.research.google.com/assets/colab-badge.svg\" alt=\"Open In Colab\"/></a>"
      ]
    },
    {
      "cell_type": "code",
      "metadata": {
        "id": "BfWZEAyt-WKf",
        "colab_type": "code",
        "outputId": "fe58da4f-767f-461d-e4f5-be309b7c7a9f",
        "colab": {
          "base_uri": "https://localhost:8080/",
          "height": 35
        }
      },
      "source": [
        "\n",
        "import numpy as np\n",
        "from random import randint\n",
        "print(\"hello world, I am envolving !!!!\")"
      ],
      "execution_count": 1,
      "outputs": [
        {
          "output_type": "stream",
          "text": [
            "hello world, I am envolving !!!!\n"
          ],
          "name": "stdout"
        }
      ]
    },
    {
      "cell_type": "code",
      "metadata": {
        "id": "86jqs7OcAEEj",
        "colab_type": "code",
        "outputId": "409534d6-51b1-4222-db93-966d02212597",
        "colab": {
          "base_uri": "https://localhost:8080/",
          "height": 217
        }
      },
      "source": [
        "NP=10\n",
        "zn=np.ones(NP)*1E100\n",
        "print(zn)\n",
        "print(10**3)\n",
        "print(10.0**(-4.0)/0.9)\n",
        "i=2\n",
        "for j in range(i+1,NP):\n",
        "  print(j)"
      ],
      "execution_count": 2,
      "outputs": [
        {
          "output_type": "stream",
          "text": [
            "[1.e+100 1.e+100 1.e+100 1.e+100 1.e+100 1.e+100 1.e+100 1.e+100 1.e+100\n",
            " 1.e+100]\n",
            "1000\n",
            "0.00011111111111111112\n",
            "3\n",
            "4\n",
            "5\n",
            "6\n",
            "7\n",
            "8\n",
            "9\n"
          ],
          "name": "stdout"
        }
      ]
    },
    {
      "cell_type": "code",
      "metadata": {
        "id": "Y2WbkWEu-meR",
        "colab_type": "code",
        "colab": {}
      },
      "source": [
        "'''Rosembrock Function'''\n",
        "def funobj(x):\n",
        "    fun=0\n",
        "    a=1.0\n",
        "    b=100.0\n",
        "    fun = (a-x[0])**2 + b*(x[1]-x[0]**2)**2\n",
        "    return fun"
      ],
      "execution_count": 0,
      "outputs": []
    },
    {
      "cell_type": "code",
      "metadata": {
        "id": "Etoa7QpFA53A",
        "colab_type": "code",
        "colab": {}
      },
      "source": [
        " # Population initial\n",
        "  def init_ffa(NP,D,MIN,MAX):\n",
        "    ns=np.zeros((NP,D))\n",
        "    for i in range(NP):\n",
        "      for j in range(D):\n",
        "        ns[i,j]=MIN[j]+(MAX[j]-MIN[j])*np.random.random()\n",
        "    Lightn=np.ones(NP)*1E100\n",
        "    return ns,Lightn"
      ],
      "execution_count": 0,
      "outputs": []
    },
    {
      "cell_type": "code",
      "metadata": {
        "id": "GTcn40PFCSYC",
        "colab_type": "code",
        "colab": {}
      },
      "source": [
        "  #optionally recalculate the new alpha value\n",
        "  def alpha_new(alpha,NGen):\n",
        "    delta=1-(0.005/0.9)**(1/NGen)\n",
        "    #delta =1-(10.0**(-4.0)/0.9)**(1/NGen)\n",
        "    #delta=1-0.00011111111111111112**(1/NGen)\n",
        "    alpha=(1-delta)*alpha\n",
        "    return alpha"
      ],
      "execution_count": 0,
      "outputs": []
    },
    {
      "cell_type": "code",
      "metadata": {
        "id": "JAhNutWCC-ab",
        "colab_type": "code",
        "colab": {}
      },
      "source": [
        "#Make sure the fireflies are within the bounds/limits\n",
        "def findlimits(NP,ns,MIN,MAX):\n",
        "  for i in range(NP):\n",
        "    D=len(ns[0,:])\n",
        "    for j in range(D):\n",
        "      if(ns[i,j] < MIN[j]):\n",
        "        ns[i,j] = MIN[j]\n",
        "      if(ns[i,j] > MAX[j]):\n",
        "        ns[i,j] = MAX[j]\n",
        "  return ns"
      ],
      "execution_count": 0,
      "outputs": []
    },
    {
      "cell_type": "code",
      "metadata": {
        "id": "H10YY1k0GJdu",
        "colab_type": "code",
        "colab": {}
      },
      "source": [
        "# implementation of bubble sort\n",
        "def gsort(I,NP):# I representa zn q futuramente vai deixar se ser usado....\n",
        "  # initialization of indexes\n",
        "  Index=np.ones(NP)\n",
        "  for i in range(NP):\n",
        "    Index[i]=i\n",
        "  # Bubble sort\n",
        "  for i in range((NP-1)):\n",
        "    for j in range(i+1,NP):\n",
        "      if(I[i] > I[j]):\n",
        "        z=[]\n",
        "        z = I[i] # exchange attractiveness\n",
        "        I[i] = I[j]\n",
        "        I[j] = z\n",
        "        k=[]\n",
        "        k = Index[i]\n",
        "        Index[i] = Index[j]\n",
        "        Index[j] = k\n",
        "  return I,Index"
      ],
      "execution_count": 0,
      "outputs": []
    },
    {
      "cell_type": "code",
      "metadata": {
        "id": "AYkg2_KQR_46",
        "colab_type": "code",
        "colab": {}
      },
      "source": [
        "# Move all fireflies to the better locations\n",
        "def move_ffa(NP,D,ns,Lightn,nso,Lighto,nbest,Lightbest,alpha,betamin,gama,MIN,MAX): # futuramente gammap sera gama\n",
        "  for i in range(NP):\n",
        "    for j in range(NP):\n",
        "      r = 0.0\n",
        "      for k in range(D):\n",
        "        r += (ns[i,k]-ns[j,k])*(ns[i,k]-ns[j,k])\n",
        "      r=r**0.5\n",
        "      if(Lightn[i] > Lightn[j]):\t# brighter and more attractive (futuramente Lightn vai ser trocado por I)\n",
        "        beta0 = 1.0\n",
        "        beta = (beta0-betamin)*np.exp(-gama*r**2.0)+betamin\n",
        "        for k in range(D):\n",
        "          scale =MAX[k]-MIN[k]\n",
        "          r=np.random.random() # r = (   (double)rand() / ((double)(RAND_MAX)+(double)(1)) ); ????\n",
        "          tmpf = alpha*(r-0.5)*scale\n",
        "          ns[i,k] = ns[i,k]*(1.0-beta)+nso[j,k]*beta+tmpf # futuramente ffa fica no lugar de ns e ffa_tmp no lugar de nso\n",
        "\n",
        "    ns = findlimits(NP,ns,MIN,MAX)       \n",
        "  return ns"
      ],
      "execution_count": 0,
      "outputs": []
    },
    {
      "cell_type": "code",
      "metadata": {
        "id": "tniTList-9SV",
        "colab_type": "code",
        "colab": {}
      },
      "source": [
        "#function [XBest,FBest,NumEval]=fflyalg(D,NP,MaxGeneration,alpha,betamin,MIN,MAX,y);\n",
        "def fflyalg(D,NP,MaxGeneration,alpha,betamin,MIN,MAX):\n",
        "  gammap=1\n",
        "  NumEval=0\n",
        "  #Initial values of an array\n",
        "  \n",
        "  zn=np.ones(NP)*1E100\n",
        "  # ------------------------------------------------\n",
        "  # generating the initial locations of n fireflies\n",
        "  ns,Lightn=init_ffa(NP,D,MIN,MAX)\n",
        "  #NumEval=[]\n",
        "  NumEval=0\n",
        "  NumEval=NumEval+NP\n",
        "  XBest=ns[0,:]\n",
        "  FBest=Lightn[0]\n",
        "\n",
        "  #Iterations or pseudo time marching\n",
        "  for k in range(MaxGeneration):#start iterations\n",
        "    #This line of reducing alpha is optional\n",
        "    alpha=alpha_new(alpha,MaxGeneration)\n",
        "    \n",
        "\n",
        "  # Evaluate new solutions \n",
        "  for i in range(NP):\n",
        "    zn[i]=funobj(ns[i,:])\n",
        "    NumEval=NumEval+1\n",
        "    Lightn[i]=zn[i]\n",
        "  \n",
        "\n",
        "  # Ranking fireflies by their light intensity/objectives\n",
        "  Lightn,Index=gsort(zn,NP)\n",
        "  # Lightn,Index =gsort(zn,'r','i') # futuro nome desta funcao: sort_ffa\n",
        "  # futuro nome de Lightn is I ou ffa????\n",
        "  ns_tmp=np.zeros((NP,D)) \n",
        "  for i in range(NP):\n",
        "    for j in range(D):\n",
        "      #print(Index[i])\n",
        "      ns_tmp[i,j]=ns[int(Index[i]),j]\n",
        "  for i in range(NP):\n",
        "    for j in range(D):\n",
        "      ns[i,j]=ns_tmp[i,j]\n",
        "\n",
        "  # Find the current best\n",
        "  nso=ns\n",
        "  Lighto=Lightn\n",
        "  nbest=ns[0,:]\n",
        "  Lightbest=Lightn[0]\n",
        "  \n",
        "  fbest=Lightbest # aparentemente nao precisa desta linha pode usar direto Lightbest\n",
        "  \n",
        "  # if current best is better than global best replace global by local best\n",
        "  if (fbest<FBest):\n",
        "    XBest=nbest\n",
        "    FBest=fbest\n",
        "\n",
        "  # Move all fireflies to the better locations\n",
        "  ns =move_ffa(NP,D,ns,Lightn,nso,Lighto,nbest,Lightbest,alpha,betamin,gammap,MIN,MAX)\n",
        "  \n",
        "  return XBest,FBest,NumEval\n",
        "\n"
      ],
      "execution_count": 0,
      "outputs": []
    },
    {
      "cell_type": "code",
      "metadata": {
        "id": "UF0EP_jG61ur",
        "colab_type": "code",
        "colab": {
          "base_uri": "https://localhost:8080/",
          "height": 35
        },
        "outputId": "41d55f40-ea84-478a-f925-4f328dfae5ce"
      },
      "source": [
        "#=============================================================================\n",
        "\n",
        "#=============================================================================\n",
        "# Programa principal\n",
        "#============================================================================= \n",
        "\n",
        "   \n",
        "D=2 # número de variaveis de projeto\n",
        "MIN=[-10,-10] # limite inferior\n",
        "MAX=[10,10] # limite superior\n",
        "NP=100 # tamanho da população  \n",
        "MaxGeneration=500 # numero maximo de gerações\n",
        "alpha=0.8 # parâmetro de aleatoriedade\n",
        "beta_o=0.7 # parametro de atratividade  \n",
        "\n",
        " \n",
        "# rotina que chama o código ... \n",
        "x,fval,NumEval =fflyalg(D,NP,MaxGeneration,alpha,beta_o,MIN,MAX)\n",
        "# x - solução encontrada\n",
        "# fval - função objetivo otimizada\n",
        "# NumEval - número de avaliações da função objetivo\n",
        "print('solucao=',x,'valor=',fval)\n"
      ],
      "execution_count": 10,
      "outputs": [
        {
          "output_type": "stream",
          "text": [
            "solucao= [2.49501953 6.23071955] valor= 2.2382161453010414\n"
          ],
          "name": "stdout"
        }
      ]
    }
  ]
}