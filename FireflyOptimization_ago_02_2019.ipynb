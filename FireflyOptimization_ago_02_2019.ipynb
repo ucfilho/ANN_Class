{
  "nbformat": 4,
  "nbformat_minor": 0,
  "metadata": {
    "colab": {
      "name": "FireflyOptimization_ago_02_2019.ipynb",
      "version": "0.3.2",
      "provenance": [],
      "collapsed_sections": [],
      "include_colab_link": true
    },
    "kernelspec": {
      "name": "python3",
      "display_name": "Python 3"
    }
  },
  "cells": [
    {
      "cell_type": "markdown",
      "metadata": {
        "id": "view-in-github",
        "colab_type": "text"
      },
      "source": [
        "<a href=\"https://colab.research.google.com/github/ucfilho/Codigos_Teste/blob/master/FireflyOptimization_ago_02_2019.ipynb\" target=\"_parent\"><img src=\"https://colab.research.google.com/assets/colab-badge.svg\" alt=\"Open In Colab\"/></a>"
      ]
    },
    {
      "cell_type": "code",
      "metadata": {
        "id": "BfWZEAyt-WKf",
        "colab_type": "code",
        "colab": {
          "base_uri": "https://localhost:8080/",
          "height": 35
        },
        "outputId": "c7f78d89-e1b6-4e86-abe8-58cd5f9bfbb6"
      },
      "source": [
        "\n",
        "import numpy as np\n",
        "from random import randint\n",
        "print(\"hello world, I am envolving !!!!\")"
      ],
      "execution_count": 1,
      "outputs": [
        {
          "output_type": "stream",
          "text": [
            "hello world, I am envolving !!!!\n"
          ],
          "name": "stdout"
        }
      ]
    },
    {
      "cell_type": "code",
      "metadata": {
        "id": "86jqs7OcAEEj",
        "colab_type": "code",
        "colab": {
          "base_uri": "https://localhost:8080/",
          "height": 54
        },
        "outputId": "be1da3eb-9ef3-4a86-9b86-df9e4e13e425"
      },
      "source": [
        "NP=5\n",
        "zn=np.ones(NP)*1E100\n",
        "print(zn)\n",
        "print(10**3)"
      ],
      "execution_count": 5,
      "outputs": [
        {
          "output_type": "stream",
          "text": [
            "[1.e+100 1.e+100 1.e+100 1.e+100 1.e+100]\n",
            "1000\n"
          ],
          "name": "stdout"
        }
      ]
    },
    {
      "cell_type": "code",
      "metadata": {
        "id": "Y2WbkWEu-meR",
        "colab_type": "code",
        "colab": {}
      },
      "source": [
        "'''Rosembrock Function'''\n",
        "def funobj(x):\n",
        "    fun=0\n",
        "    a=1.0\n",
        "    b=100.0\n",
        "    fun = (a-x[0])**2 + b*(x[1]-x[0]**2)**2\n",
        "    return fun"
      ],
      "execution_count": 0,
      "outputs": []
    },
    {
      "cell_type": "code",
      "metadata": {
        "id": "Etoa7QpFA53A",
        "colab_type": "code",
        "colab": {}
      },
      "source": [
        " # Population initial\n",
        "  def init_ffa(NP,D,XVmin,XVmax):\n",
        "    for i in range(NP):\n",
        "      ns[i,:]=XVmin+(XVmax-XVmin)**np.random.random()\n",
        "    Lightn=np.ones(NP)*1E100\n",
        "    return ns,Lightn"
      ],
      "execution_count": 0,
      "outputs": []
    },
    {
      "cell_type": "code",
      "metadata": {
        "id": "GTcn40PFCSYC",
        "colab_type": "code",
        "colab": {}
      },
      "source": [
        "  def alpha_new(alpha,NGen):\n",
        "    delta=1-(0.005/0.9)**(1/NGen)\n",
        "    alpha=(1-delta)*alpha\n",
        "    return alpha"
      ],
      "execution_count": 0,
      "outputs": []
    },
    {
      "cell_type": "code",
      "metadata": {
        "id": "JAhNutWCC-ab",
        "colab_type": "code",
        "colab": {}
      },
      "source": [
        "#Make sure the fireflies are within the bounds/limits\n",
        "def findlimits(NP,ns,XVmin,XVmax):\n",
        "  for i in range(NP):\n",
        "    ns_tmp=ns[i,:]\n",
        "    if(ns_tmp<XVmin):\n",
        "      \n",
        "   ''' \n",
        "     // Apply the lower bound\n",
        "    ns_tmp=ns(i,:); \n",
        "    I=ns_tmp<XVmin;\n",
        "    ns_tmp(I)=XVmin(I);\n",
        "\n",
        "   // Apply the upper bounds\n",
        "   J=ns_tmp>XVmax;\n",
        "   ns_tmp(J)=XVmax(J);\n",
        "   // Update this new move\n",
        "   ns(i,:)=ns_tmp;\n",
        "   '''"
      ],
      "execution_count": 0,
      "outputs": []
    },
    {
      "cell_type": "code",
      "metadata": {
        "id": "tniTList-9SV",
        "colab_type": "code",
        "colab": {}
      },
      "source": [
        "function [XBest,FBest,NumEval]=fflyalg(D,NP,MaxGeneration,alpha,betamin,XVmin,XVmax,y);\n",
        "def fflyalg(D,NP,MaxGeneration,alpha,betamin,XVmin,XVmax):\n",
        "  gammap=1\n",
        "  NumEval=0\n",
        "  #Initial values of an array\n",
        "  \n",
        "  zn=np.ones(NP)*1E100\n",
        "  # ------------------------------------------------\n",
        "  # generating the initial locations of n fireflies\n",
        "  ns,Lightn=init_ffa(NP,D,XVmin,XVmax)\n",
        "  NumEval=[]\n",
        "  NumEval=NumEval+NP\n",
        "  XBest=ns[0,:]\n",
        "  FBest=Lightn[0]\n",
        "\n",
        "  #Iterations or pseudo time marching\n",
        "  for k in range(MaxGeneration):#start iterations\n",
        "    #This line of reducing alpha is optional\n",
        "    alpha=alpha_new(alpha,MaxGeneration)\n",
        "    \n",
        "\n",
        "  // This line of reducing alpha is optional\n",
        "  alpha=alpha_new(alpha,MaxGeneration);\n",
        "  // Evaluate new solutions (for all NP fireflies)\n",
        "  for i=1:NP,\n",
        "   zn(i)=funobj(ns(i,:),y);\n",
        "   NumEval=NumEval+1;\n",
        "   Lightn(i)=zn(i); \n",
        "  end\n",
        "\n",
        "  // Ranking fireflies by their light intensity/objectives\n",
        "  [Lightn,Index]=gsort(zn,'r','i');\n",
        "  ns_tmp=ns;\n",
        "  for i=1:NP,\n",
        "   ns(i,:)=ns_tmp(Index(i),:);\n",
        "  end\n",
        "\n",
        "  // Find the current best\n",
        "  nso=ns; Lighto=Lightn;\n",
        "  nbest=ns(1,:); Lightbest=Lightn(1);\n",
        "  average=mean(Lightn);\n",
        "  Xordena=gsort(Lightn);;\n",
        "  worst=Xordena(1);\n",
        "\n",
        " // For output only\n",
        "  fbest=Lightbest;\n",
        "  BB(k)=fbest;\n",
        "  // Small perturbation\n",
        "\n",
        "  if fbest<FBest\n",
        "   XBest=nbest;\n",
        "   FBest=fbest;\n",
        "  end\n",
        "\n",
        "  // Move all fireflies to the better locations\n",
        " [ns]=ffa_move(NP,D,ns,Lightn,nso,Lighto,nbest,...\n",
        "      Lightbest,alpha,betamin,gammap,XVmin,XVmax);\n",
        "    \n",
        " printf(' ===================================================================================================================\\n');\n",
        " printf('   Iteration: %d\\n',k);\n",
        " printf('   Best Value: %.10f, Average: %.10f, Worst: %.10f\\n',FBest,average,worst);\n",
        "  for nn=1:D\n",
        "   printf('   x(%d) = %f',nn,XBest(nn));\n",
        "  end\n",
        " printf('\\n');\n",
        " printf(' ===================================================================================================================\\n');\n",
        "\n",
        " end \n",
        "\n",
        " endfunction \n"
      ],
      "execution_count": 0,
      "outputs": []
    }
  ]
}