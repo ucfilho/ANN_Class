{
  "nbformat": 4,
  "nbformat_minor": 0,
  "metadata": {
    "colab": {
      "name": "ABCOptim_jun_15_2019.ipynb",
      "version": "0.3.2",
      "provenance": [],
      "collapsed_sections": [],
      "include_colab_link": true
    },
    "kernelspec": {
      "name": "python3",
      "display_name": "Python 3"
    }
  },
  "cells": [
    {
      "cell_type": "markdown",
      "metadata": {
        "id": "view-in-github",
        "colab_type": "text"
      },
      "source": [
        "<a href=\"https://colab.research.google.com/github/ucfilho/Codigos_Teste/blob/master/ABCOptim_jun_15_2019.ipynb\" target=\"_parent\"><img src=\"https://colab.research.google.com/assets/colab-badge.svg\" alt=\"Open In Colab\"/></a>"
      ]
    },
    {
      "cell_type": "code",
      "metadata": {
        "id": "GsYRyfncGNSq",
        "colab_type": "code",
        "colab": {}
      },
      "source": [
        "import numpy as np\n",
        "from random import randint"
      ],
      "execution_count": 0,
      "outputs": []
    },
    {
      "cell_type": "code",
      "metadata": {
        "id": "BSPNA_yOGECF",
        "colab_type": "code",
        "colab": {}
      },
      "source": [
        "'''Rosembrock Function'''\n",
        "def Fun(x):\n",
        "    fun=0\n",
        "    a=1.0\n",
        "    b=100.0\n",
        "    fun = (a-x[0])**2 + b*(x[1]-x[0]**2)**2\n",
        "    return fun"
      ],
      "execution_count": 0,
      "outputs": []
    },
    {
      "cell_type": "code",
      "metadata": {
        "id": "G2iS9vd3GZ5L",
        "colab_type": "code",
        "colab": {}
      },
      "source": [
        "''' \n",
        "FOBJ gera vetorialmente os valores com a funcao objetivo escalar\n",
        "em outras palavras gera para populacao o valor da funcao \n",
        "a ser otimizada\n",
        "'''\n",
        "def FOBJ(X):\n",
        "    rows = X.shape[0]\n",
        "    fobj=np.zeros(rows)\n",
        "    for i in range(rows):\n",
        "        fobj[i]=Fun(X[i,])\n",
        "    return fobj"
      ],
      "execution_count": 0,
      "outputs": []
    },
    {
      "cell_type": "code",
      "metadata": {
        "id": "Pvv0HKYXGqkj",
        "colab_type": "code",
        "colab": {}
      },
      "source": [
        "\n",
        "'''Enxame retorna a populacao aleatoria com todos valores entre MIN e MAX'''\n",
        "def Enxame(PAR,NPAR,MAX,MIN):\n",
        "    x=np.zeros((NPAR, len(MAX)))\n",
        "    for j in range(len(MAX)):\n",
        "        for i in range(NPAR):\n",
        "            x[i,j]=MIN[j]+(MAX[j]-MIN[j])*np.random.random()\n",
        "    return x"
      ],
      "execution_count": 0,
      "outputs": []
    },
    {
      "cell_type": "code",
      "metadata": {
        "id": "mOIyK9B1G1qT",
        "colab_type": "code",
        "colab": {}
      },
      "source": [
        "\n",
        "'''\n",
        "probablilidade usada para roleta q atualizacao das onlookers \n",
        "semelhante ao genetico\n",
        "'''\n",
        "\n",
        "def PROB(x,Fun):\n",
        "    rows=x.shape[0]\n",
        "    fit=np.zeros(rows)\n",
        "    prob=np.zeros(rows)\n",
        "    fit=FIT(x,Fun)\n",
        "    fit_ref=max(fit)\n",
        "    \n",
        "    for i in range(rows):\n",
        "        prob[i] = 0.9*fit[i]/fit_ref+0.1\n",
        "\n",
        "    return prob\n"
      ],
      "execution_count": 0,
      "outputs": []
    },
    {
      "cell_type": "code",
      "metadata": {
        "id": "boa16IxoG7pT",
        "colab_type": "code",
        "colab": {}
      },
      "source": [
        "''' \n",
        "Fitness gera vetorialmente os valores com a funcao fitness\n",
        "equivale a quantidade de nectar da fonte\n",
        "'''\n",
        "def FIT(X,Fun):\n",
        "    rows = X.shape[0]\n",
        "    fit=np.zeros(rows)\n",
        "    fit=np.copy(FOBJ(X))\n",
        "    for i in range(rows):\n",
        "        if(fit[i]>=0):\n",
        "            fit[i]=1/(fit[i]+1)\n",
        "        else:\n",
        "            fit[i]=1+abs(fit[i])\n",
        "    return fit"
      ],
      "execution_count": 0,
      "outputs": []
    },
    {
      "cell_type": "code",
      "metadata": {
        "id": "nry9oaPeG-o8",
        "colab_type": "code",
        "colab": {}
      },
      "source": [
        "'''\n",
        "Obtem a melhor escolha greedy search\n",
        "'''\n",
        "def GetBest(x,xbest):\n",
        "    ycal=FOBJ(x)\n",
        "    best=np.argmin(ycal)\n",
        "    yref=Fun(xbest)\n",
        "    if(yref<ycal[best]):\n",
        "        GBEST=xbest\n",
        "    else:\n",
        "        GBEST=x[best,]\n",
        "    return GBEST"
      ],
      "execution_count": 0,
      "outputs": []
    },
    {
      "cell_type": "code",
      "metadata": {
        "id": "-0QNIcz3HMhP",
        "colab_type": "code",
        "colab": {}
      },
      "source": [
        "'''\n",
        "employed bee phase\n",
        "'''\n",
        "def EmployedBee(xo,x,MAX,MIN,trial) :\n",
        "    NPAR = xo.shape[0]\n",
        "    PAR= xo.shape[1]\n",
        "    V=np.zeros((NPAR, len(MAX)))\n",
        "\n",
        "    for j in range(PAR):\n",
        "        for i in range(NPAR):\n",
        "            fi=np.random.uniform(low=-1.0, high=1.0, size=None)\n",
        "            rd=randint(0, (NPAR-1))\n",
        "            V[i,j]=xo[i,j]+(xo[i,j] -x[rd,j])*fi # candidata a solucao\n",
        "            if (V[i,j]>MAX[j]):\n",
        "              V[i,j]=np.copy(MAX[j]) # restringe a busca para o intervalo\n",
        "            if (V[i,j]<MIN[j]):\n",
        "              V[i,j]=np.copy(MIN[j]) # restringe a busca para o intervalo\n",
        "              \n",
        "    YCAL=FOBJ(xo)\n",
        "    YV=FOBJ(V)\n",
        "    for i in range(NPAR):\n",
        "        if(YV[i]<YCAL[i]):\n",
        "          trial[i]=0\n",
        "          xo[i,]=np.copy(V[i,]) #MODIFICADO JUN 12\n",
        "        else:\n",
        "          trial[i]=trial[i]+1\n",
        "            \n",
        "\n",
        "    return xo,trial  #MODIFICADO JUN 12"
      ],
      "execution_count": 0,
      "outputs": []
    },
    {
      "cell_type": "code",
      "metadata": {
        "id": "ebr2TaS0HM-v",
        "colab_type": "code",
        "colab": {}
      },
      "source": [
        "'''\n",
        "onlooker bee phase\n",
        "'''\n",
        "def OnlookerBee(xo,x,trial,MAX,MIN): #OnlookerBee(xo,x_Employed)\n",
        "    rows = xo.shape[0]\n",
        "    cols = xo.shape[1]\n",
        "    prob=PROB(x,Fun)\n",
        "    prob_ref=max(prob)\n",
        "    #best=np.argmax(prob)\n",
        "    \n",
        "    for i in range(rows):\n",
        "      prob_ref=np.random.uniform(low=0, high=1.0, size=None)\n",
        "      rd=randint(0, (rows-1))\n",
        "      if(prob[i] > prob_ref):  \n",
        "        fi=np.random.uniform(low=-1.0, high=1.0, size=None)\n",
        "        Xmi=xo[i,]+fi*(xo[i,]-x[rd,])\n",
        "        xo[i,]=np.copy(Xmi)\n",
        "        for j in range(cols):\n",
        "          if (xo[i,j]>MAX[j]):\n",
        "            xo[i,j]=np.copy(MAX[j]) # restringe a busca para o intervalo\n",
        "          if (xo[i,j]<MIN[j]):\n",
        "            xo[i,j]=np.copy(MIN[j]) # restringe a busca para o intervalo\n",
        "    \n",
        "    YCAL=FOBJ(xo)\n",
        "    YV=FOBJ(x)\n",
        "        \n",
        "    for i in range(rows):\n",
        "      if(YV[i]<YCAL[i]):\n",
        "        trial[i]=0\n",
        "        xo[i,]=np.copy(x[i,])\n",
        "      else:\n",
        "        trial[i]=trial[i]+1\n",
        "    return xo,trial"
      ],
      "execution_count": 0,
      "outputs": []
    },
    {
      "cell_type": "code",
      "metadata": {
        "id": "CMTD9I7kHZSL",
        "colab_type": "code",
        "colab": {}
      },
      "source": [
        "'''\n",
        "scout bee phase\n",
        "'''\n",
        "def ScoutBee(trial,x,ntrail,MAX,MIN):\n",
        "#def ScoutBee(x,trial,MAX,MIN):\n",
        "    PAR = x.shape[0]\n",
        "    NPAR = x.shape[1]\n",
        "    for i in range(PAR):\n",
        "      if(trial[i]>= ntrail):\n",
        "        trial[i]=0\n",
        "        for j in range(NPAR):\n",
        "          x[i,j]=MIN[j]+(MAX[j]-MIN[j])*np.random.random()\n",
        "    return x,trial"
      ],
      "execution_count": 0,
      "outputs": []
    },
    {
      "cell_type": "code",
      "metadata": {
        "id": "NPY7rRQoBcqr",
        "colab_type": "code",
        "colab": {}
      },
      "source": [
        "'''\n",
        "Metodo que alterna e coordena o uso employers,onlooker, scout bees\n",
        "e greedy search\n",
        "'''\n",
        "def ABCOPtim(ITE,PAR,ntrail,NPAR,MAX,MIN):\n",
        "\n",
        "    trial=np.zeros(NPAR) # inicializa contador p abandonar fonte de alimento\n",
        "    xbest=Enxame(PAR,1,MAX,MIN)[0,] #inicializa xbest\n",
        "    xo=Enxame(PAR,NPAR,MAX,MIN) # inicializa employed bee\n",
        "    xbest=GetBest(xo,xbest)\n",
        "    \n",
        "    for i in range(ITE):\n",
        "      x=Enxame(PAR,NPAR,MAX,MIN) # comparativo para employed bee\n",
        "      xo,trial=EmployedBee(xo,x,MAX,MIN,trial)\n",
        "      xbest=GetBest(xo,xbest) #MODIFICADO JUN 12\n",
        "      x=Enxame(PAR,NPAR,MAX,MIN)  # comparativo para OnlookerBee\n",
        "      xo,trial=OnlookerBee(xo,x,trial,MAX,MIN)\n",
        "      xbest=GetBest(xo,xbest) \n",
        "      #xbest=GetBest(xo,xbest)\n",
        "      # x=Enxame(PAR,NPAR,MAX,MIN) # comparativo para ScoutBee\n",
        "      xo,trial=ScoutBee(trial,x,ntrail,MAX,MIN) #MODIFICADO JUN 12\n",
        "      xbest=GetBest(xo,xbest) #MODIFICADO JUN 12\n",
        "    x=np.copy(xo)\n",
        "    xbest=GetBest(xo,xbest) #MODIFICADO JUN 12\n",
        "    \n",
        "    return xbest, x,trial\n",
        "\n"
      ],
      "execution_count": 0,
      "outputs": []
    },
    {
      "cell_type": "code",
      "metadata": {
        "id": "TsQWNgH4H_mH",
        "colab_type": "code",
        "colab": {
          "base_uri": "https://localhost:8080/",
          "height": 1108
        },
        "outputId": "dedcfb2d-3dc5-4edb-91ba-e161e3c667a9"
      },
      "source": [
        "dim=2\n",
        "MAX=np.repeat(5,dim)\n",
        "MIN=np.repeat(-5,dim)\n",
        "\n",
        "NPAR=175 #PARTICULAS (fontes de comida)\n",
        "ITE=300 #ITERACOES\n",
        "PAR=len(MAX)\n",
        "ntrail=25 #numero de buscas ate abandonar uma fonte de alimento\n",
        "\n",
        "for i in range(20):\n",
        "    print(\"resolucao\",i+1,\" \")\n",
        "    xbest, x,trial =ABCOPtim(ITE,PAR,ntrail,NPAR,MAX,MIN)\n",
        "    print(\"vetor\",xbest,\"funcao\", Fun(xbest),\"\\n\")\n",
        "\n"
      ],
      "execution_count": 12,
      "outputs": [
        {
          "output_type": "stream",
          "text": [
            "resolucao 1  \n",
            "vetor [0.99183473 0.98507651] funcao 0.00024633146502497694 \n",
            "\n",
            "resolucao 2  \n",
            "vetor [1.01803068 1.04199965] funcao 0.003475896219977801 \n",
            "\n",
            "resolucao 3  \n",
            "vetor [1.01524958 1.02787561] funcao 0.0010482861275181005 \n",
            "\n",
            "resolucao 4  \n",
            "vetor [1.01597457 1.02854133] funcao 0.0015969373493208469 \n",
            "\n",
            "resolucao 5  \n",
            "vetor [1.0159272  1.03436402] funcao 0.000762605613822613 \n",
            "\n",
            "resolucao 6  \n",
            "vetor [0.99894047 0.9980147 ] funcao 2.88181877356559e-06 \n",
            "\n",
            "resolucao 7  \n",
            "vetor [1.05564811 1.1071785 ] funcao 0.008301496201446844 \n",
            "\n",
            "resolucao 8  \n",
            "vetor [1.13067589 1.27306964] funcao 0.01994735209321784 \n",
            "\n",
            "resolucao 9  \n",
            "vetor [1.05013509 1.0978518 ] funcao 0.004945892514562067 \n",
            "\n",
            "resolucao 10  \n",
            "vetor [0.96096665 0.92277437] funcao 0.0015701865754340224 \n",
            "\n",
            "resolucao 11  \n",
            "vetor [0.95429771 0.91159829] funcao 0.002172267172528721 \n",
            "\n",
            "resolucao 12  \n",
            "vetor [0.99600803 0.99229814] funcao 2.3019082056961125e-05 \n",
            "\n",
            "resolucao 13  \n",
            "vetor [0.98961819 0.9845184 ] funcao 0.00278505273135733 \n",
            "\n",
            "resolucao 14  \n",
            "vetor [0.99396991 0.98136143] funcao 0.004411851733122726 \n",
            "\n",
            "resolucao 15  \n",
            "vetor [0.96143084 0.92766118] funcao 0.0025844622511097077 \n",
            "\n",
            "resolucao 16  \n",
            "vetor [1.00396282 1.00961616] funcao 0.00029620333604659906 \n",
            "\n",
            "resolucao 17  \n",
            "vetor [0.89695998 0.80083569] funcao 0.011987368931818607 \n",
            "\n",
            "resolucao 18  \n",
            "vetor [0.97790594 0.95256634] funcao 0.0018821896736924437 \n",
            "\n",
            "resolucao 19  \n",
            "vetor [1.01663101 1.03372941] funcao 0.00028023122067995443 \n",
            "\n",
            "resolucao 20  \n",
            "vetor [1.02429057 1.04895456] funcao 0.0005947243866185443 \n",
            "\n"
          ],
          "name": "stdout"
        }
      ]
    }
  ]
}